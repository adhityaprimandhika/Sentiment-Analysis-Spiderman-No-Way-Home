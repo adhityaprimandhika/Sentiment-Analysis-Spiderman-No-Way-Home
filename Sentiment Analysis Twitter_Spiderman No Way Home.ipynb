{
  "cells": [
    {
      "cell_type": "markdown",
      "metadata": {
        "id": "7Guw9r5lPDSl"
      },
      "source": [
        "# Sentiment Analysis Spiderman No Way from Twitter\n",
        "Created by : <br>\n",
        "Adhitya Primandhika <br>\n",
        "19/444033/TK/49229\n",
        "\n",
        "---\n",
        "\n",
        "In this project we will see the sentiment on Twitter about latest Spiderman movie that will release in near time."
      ]
    },
    {
      "cell_type": "markdown",
      "metadata": {
        "id": "RLtvwVF-_Xrp"
      },
      "source": [
        "# Import libraries"
      ]
    },
    {
      "cell_type": "code",
      "execution_count": null,
      "metadata": {
        "id": "pIBlzhpW_V4q",
        "colab": {
          "base_uri": "https://localhost:8080/"
        },
        "outputId": "4b121263-b072-41ad-bd9a-7b97994f291b"
      },
      "outputs": [
        {
          "output_type": "stream",
          "name": "stdout",
          "text": [
            "Collecting git+git://github.com/twintproject/twint\n",
            "  Cloning git://github.com/twintproject/twint to /tmp/pip-req-build-ctnmdn4f\n",
            "  Running command git clone -q git://github.com/twintproject/twint /tmp/pip-req-build-ctnmdn4f\n",
            "Collecting aiohttp\n",
            "  Downloading aiohttp-3.8.1-cp37-cp37m-manylinux_2_5_x86_64.manylinux1_x86_64.manylinux_2_12_x86_64.manylinux2010_x86_64.whl (1.1 MB)\n",
            "\u001b[K     |████████████████████████████████| 1.1 MB 8.5 MB/s \n",
            "\u001b[?25hCollecting aiodns\n",
            "  Downloading aiodns-3.0.0-py3-none-any.whl (5.0 kB)\n",
            "Requirement already satisfied: beautifulsoup4 in /usr/local/lib/python3.7/dist-packages (from twint==2.1.21) (4.6.3)\n",
            "Collecting cchardet\n",
            "  Downloading cchardet-2.1.7-cp37-cp37m-manylinux2010_x86_64.whl (263 kB)\n",
            "\u001b[K     |████████████████████████████████| 263 kB 44.3 MB/s \n",
            "\u001b[?25hCollecting dataclasses\n",
            "  Downloading dataclasses-0.6-py3-none-any.whl (14 kB)\n",
            "Collecting elasticsearch\n",
            "  Downloading elasticsearch-7.16.0-py2.py3-none-any.whl (385 kB)\n",
            "\u001b[K     |████████████████████████████████| 385 kB 57.3 MB/s \n",
            "\u001b[?25hRequirement already satisfied: pysocks in /usr/local/lib/python3.7/dist-packages (from twint==2.1.21) (1.7.1)\n",
            "Requirement already satisfied: pandas in /usr/local/lib/python3.7/dist-packages (from twint==2.1.21) (1.1.5)\n",
            "Collecting aiohttp_socks\n",
            "  Downloading aiohttp_socks-0.7.1-py3-none-any.whl (9.3 kB)\n",
            "Collecting schedule\n",
            "  Downloading schedule-1.1.0-py2.py3-none-any.whl (10 kB)\n",
            "Requirement already satisfied: geopy in /usr/local/lib/python3.7/dist-packages (from twint==2.1.21) (1.17.0)\n",
            "Collecting fake-useragent\n",
            "  Downloading fake-useragent-0.1.11.tar.gz (13 kB)\n",
            "Collecting googletransx\n",
            "  Downloading googletransx-2.4.2.tar.gz (13 kB)\n",
            "Collecting pycares>=4.0.0\n",
            "  Downloading pycares-4.1.2-cp37-cp37m-manylinux_2_5_x86_64.manylinux1_x86_64.manylinux_2_12_x86_64.manylinux2010_x86_64.whl (291 kB)\n",
            "\u001b[K     |████████████████████████████████| 291 kB 54.7 MB/s \n",
            "\u001b[?25hRequirement already satisfied: cffi>=1.5.0 in /usr/local/lib/python3.7/dist-packages (from pycares>=4.0.0->aiodns->twint==2.1.21) (1.15.0)\n",
            "Requirement already satisfied: pycparser in /usr/local/lib/python3.7/dist-packages (from cffi>=1.5.0->pycares>=4.0.0->aiodns->twint==2.1.21) (2.21)\n",
            "Requirement already satisfied: typing-extensions>=3.7.4 in /usr/local/lib/python3.7/dist-packages (from aiohttp->twint==2.1.21) (3.10.0.2)\n",
            "Collecting asynctest==0.13.0\n",
            "  Downloading asynctest-0.13.0-py3-none-any.whl (26 kB)\n",
            "Collecting multidict<7.0,>=4.5\n",
            "  Downloading multidict-5.2.0-cp37-cp37m-manylinux_2_5_x86_64.manylinux1_x86_64.manylinux_2_12_x86_64.manylinux2010_x86_64.whl (160 kB)\n",
            "\u001b[K     |████████████████████████████████| 160 kB 53.7 MB/s \n",
            "\u001b[?25hCollecting aiosignal>=1.1.2\n",
            "  Downloading aiosignal-1.2.0-py3-none-any.whl (8.2 kB)\n",
            "Requirement already satisfied: attrs>=17.3.0 in /usr/local/lib/python3.7/dist-packages (from aiohttp->twint==2.1.21) (21.2.0)\n",
            "Requirement already satisfied: charset-normalizer<3.0,>=2.0 in /usr/local/lib/python3.7/dist-packages (from aiohttp->twint==2.1.21) (2.0.8)\n",
            "Collecting frozenlist>=1.1.1\n",
            "  Downloading frozenlist-1.2.0-cp37-cp37m-manylinux_2_5_x86_64.manylinux1_x86_64.manylinux_2_12_x86_64.manylinux2010_x86_64.whl (192 kB)\n",
            "\u001b[K     |████████████████████████████████| 192 kB 70.2 MB/s \n",
            "\u001b[?25hCollecting async-timeout<5.0,>=4.0.0a3\n",
            "  Downloading async_timeout-4.0.1-py3-none-any.whl (5.7 kB)\n",
            "Collecting yarl<2.0,>=1.0\n",
            "  Downloading yarl-1.7.2-cp37-cp37m-manylinux_2_5_x86_64.manylinux1_x86_64.manylinux_2_12_x86_64.manylinux2010_x86_64.whl (271 kB)\n",
            "\u001b[K     |████████████████████████████████| 271 kB 78.3 MB/s \n",
            "\u001b[?25hRequirement already satisfied: idna>=2.0 in /usr/local/lib/python3.7/dist-packages (from yarl<2.0,>=1.0->aiohttp->twint==2.1.21) (2.10)\n",
            "Collecting python-socks[asyncio]<3.0.0,>=2.0.0\n",
            "  Downloading python_socks-2.0.0-py3-none-any.whl (49 kB)\n",
            "\u001b[K     |████████████████████████████████| 49 kB 7.0 MB/s \n",
            "\u001b[?25hRequirement already satisfied: certifi in /usr/local/lib/python3.7/dist-packages (from elasticsearch->twint==2.1.21) (2021.10.8)\n",
            "Requirement already satisfied: urllib3<2,>=1.21.1 in /usr/local/lib/python3.7/dist-packages (from elasticsearch->twint==2.1.21) (1.24.3)\n",
            "Requirement already satisfied: geographiclib<2,>=1.49 in /usr/local/lib/python3.7/dist-packages (from geopy->twint==2.1.21) (1.52)\n",
            "Requirement already satisfied: requests in /usr/local/lib/python3.7/dist-packages (from googletransx->twint==2.1.21) (2.23.0)\n",
            "Requirement already satisfied: pytz>=2017.2 in /usr/local/lib/python3.7/dist-packages (from pandas->twint==2.1.21) (2018.9)\n",
            "Requirement already satisfied: numpy>=1.15.4 in /usr/local/lib/python3.7/dist-packages (from pandas->twint==2.1.21) (1.19.5)\n",
            "Requirement already satisfied: python-dateutil>=2.7.3 in /usr/local/lib/python3.7/dist-packages (from pandas->twint==2.1.21) (2.8.2)\n",
            "Requirement already satisfied: six>=1.5 in /usr/local/lib/python3.7/dist-packages (from python-dateutil>=2.7.3->pandas->twint==2.1.21) (1.15.0)\n",
            "Requirement already satisfied: chardet<4,>=3.0.2 in /usr/local/lib/python3.7/dist-packages (from requests->googletransx->twint==2.1.21) (3.0.4)\n",
            "Building wheels for collected packages: twint, fake-useragent, googletransx\n",
            "  Building wheel for twint (setup.py) ... \u001b[?25l\u001b[?25hdone\n",
            "  Created wheel for twint: filename=twint-2.1.21-py3-none-any.whl size=38870 sha256=217b710791bc896dbafeb4b7a29083e2118b0ff70768cb704cacc7efe3f8a9e6\n",
            "  Stored in directory: /tmp/pip-ephem-wheel-cache-8jfh2c9a/wheels/8a/34/08/7b340ef9c524af6c431e3027a46db1817ef7adb99ff19a86b4\n",
            "  Building wheel for fake-useragent (setup.py) ... \u001b[?25l\u001b[?25hdone\n",
            "  Created wheel for fake-useragent: filename=fake_useragent-0.1.11-py3-none-any.whl size=13502 sha256=49c415566abcfb131e5c48778003eb19cf95f15defe33e38b7641fb9d3c3ee37\n",
            "  Stored in directory: /root/.cache/pip/wheels/ed/f7/62/50ab6c9a0b5567267ab76a9daa9d06315704209b2c5d032031\n",
            "  Building wheel for googletransx (setup.py) ... \u001b[?25l\u001b[?25hdone\n",
            "  Created wheel for googletransx: filename=googletransx-2.4.2-py3-none-any.whl size=15968 sha256=7127688dfb131847b7e91c3d9d70f43f9a5ed4e75e31893d012fd7772be643d1\n",
            "  Stored in directory: /root/.cache/pip/wheels/66/d5/b1/31104b338f7fd45aa8f7d22587765db06773b13df48a89735f\n",
            "Successfully built twint fake-useragent googletransx\n",
            "Installing collected packages: multidict, frozenlist, yarl, python-socks, asynctest, async-timeout, aiosignal, pycares, aiohttp, schedule, googletransx, fake-useragent, elasticsearch, dataclasses, cchardet, aiohttp-socks, aiodns, twint\n",
            "Successfully installed aiodns-3.0.0 aiohttp-3.8.1 aiohttp-socks-0.7.1 aiosignal-1.2.0 async-timeout-4.0.1 asynctest-0.13.0 cchardet-2.1.7 dataclasses-0.6 elasticsearch-7.16.0 fake-useragent-0.1.11 frozenlist-1.2.0 googletransx-2.4.2 multidict-5.2.0 pycares-4.1.2 python-socks-2.0.0 schedule-1.1.0 twint-2.1.21 yarl-1.7.2\n",
            "Collecting tweet-preprocessor\n",
            "  Downloading tweet_preprocessor-0.6.0-py3-none-any.whl (27 kB)\n",
            "Installing collected packages: tweet-preprocessor\n",
            "Successfully installed tweet-preprocessor-0.6.0\n",
            "[nltk_data] Downloading package punkt to /root/nltk_data...\n",
            "[nltk_data]   Unzipping tokenizers/punkt.zip.\n",
            "[nltk_data] Downloading package stopwords to /root/nltk_data...\n",
            "[nltk_data]   Unzipping corpora/stopwords.zip.\n",
            "[nltk_data] Downloading package twitter_samples to /root/nltk_data...\n",
            "[nltk_data]   Unzipping corpora/twitter_samples.zip.\n"
          ]
        }
      ],
      "source": [
        "!pip install git+git://github.com/twintproject/twint\n",
        "#!pip install --user --upgrade git+git://github.com/twintproject/twint\n",
        "!pip install tweet-preprocessor\n",
        "import re\n",
        "import twint\n",
        "import nest_asyncio\n",
        "import pandas as pd\n",
        "import preprocessor as p\n",
        "p.set_options(p.OPT.MENTION, p.OPT.EMOJI, p.OPT.HASHTAG, p.OPT.RESERVED, p.OPT.SMILEY, p.OPT.URL)\n",
        "import matplotlib.dates as mdates\n",
        "import numpy as np \n",
        "import pandas as pd \n",
        "import matplotlib.pyplot as plt\n",
        "import seaborn as sns\n",
        "from sklearn.svm import LinearSVC\n",
        "from sklearn.linear_model import Perceptron\n",
        "from sklearn.linear_model import LogisticRegression\n",
        "from sklearn.model_selection import train_test_split\n",
        "from sklearn.feature_extraction.text import TfidfVectorizer\n",
        "from sklearn.metrics import confusion_matrix, classification_report\n",
        "from sklearn.model_selection import cross_val_score\n",
        "from sklearn.metrics import r2_score\n",
        "from collections import Counter\n",
        "import nltk       \n",
        "nltk.download(\"punkt\")\n",
        "nltk.download(\"stopwords\")\n",
        "nltk.download(\"twitter_samples\")\n",
        "from nltk.corpus import stopwords        \n",
        "from nltk.corpus import twitter_samples  # Sample Twitter dataset from NLTK\n",
        "from textblob import TextBlob\n",
        "nest_asyncio.apply()"
      ]
    },
    {
      "cell_type": "markdown",
      "metadata": {
        "id": "C393PzwHAsDz"
      },
      "source": [
        "# Scraping"
      ]
    },
    {
      "cell_type": "code",
      "execution_count": null,
      "metadata": {
        "id": "As8WGt3EAw2i"
      },
      "outputs": [],
      "source": [
        "pd.set_option(\"display.max_colwidth\", None)\n",
        "pd.set_option(\"display.max_columns\", None)\n",
        "\n",
        "PROJECT_NAME = \"SpiderManNoWayHome\""
      ]
    },
    {
      "cell_type": "markdown",
      "metadata": {
        "id": "TEN0qDMVBg-_"
      },
      "source": [
        "## Configure"
      ]
    },
    {
      "cell_type": "code",
      "execution_count": null,
      "metadata": {
        "id": "yskfxT4kBV-B"
      },
      "outputs": [],
      "source": [
        "c = twint.Config()\n",
        "c.Store_json = True\n",
        "c.Output = f\"{PROJECT_NAME}.json\"\n",
        "c.Search = \"#SpiderManNoWayHome\"\n",
        "#c.Since = \"2021-08-24\"\n",
        "c.Until = \"2021-12-10\"\n",
        "c.Lang = \"en\"\n",
        "c.Resume = \"resume.txt\"\n",
        " \n",
        "c.Hide_output = True"
      ]
    },
    {
      "cell_type": "code",
      "execution_count": null,
      "metadata": {
        "colab": {
          "base_uri": "https://localhost:8080/"
        },
        "id": "cfGkEa4-Bc3F",
        "outputId": "b385fc36-7b5b-42e3-a7d6-fe68aac9b7ee"
      },
      "outputs": [
        {
          "metadata": {
            "tags": null
          },
          "name": "stdout",
          "output_type": "stream",
          "text": [
            "[!] No more data! Scraping will stop now.\n",
            "found 0 deleted tweets in this search.\n"
          ]
        }
      ],
      "source": [
        "twint.run.Search(c)"
      ]
    },
    {
      "cell_type": "code",
      "source": [
        "!head -n5 SpiderManNoWayHome.json"
      ],
      "metadata": {
        "colab": {
          "base_uri": "https://localhost:8080/"
        },
        "id": "_0EokLnK-pCW",
        "outputId": "24b52fb9-b1fc-4db1-d451-4ef7768f54b6"
      },
      "execution_count": null,
      "outputs": [
        {
          "output_type": "stream",
          "name": "stdout",
          "text": [
            "{\"id\": 1469094353222213635, \"conversation_id\": \"1469094353222213635\", \"created_at\": \"2021-12-09 23:59:22 UTC\", \"date\": \"2021-12-09\", \"time\": \"23:59:22\", \"timezone\": \"+0000\", \"user_id\": 1147810186750496769, \"username\": \"_gl0w0_\", \"name\": \"⚡ Glowoh 🕷\", \"place\": \"\", \"tweet\": \"🤷‍♂️🕷 #SpiderManNoWayHome #Venom #SpiderMan #Fortnite  https://t.co/ATIYgVmygL\", \"language\": \"und\", \"mentions\": [], \"urls\": [], \"photos\": [\"https://pbs.twimg.com/media/FGNFhdJXsAk7H44.jpg\", \"https://pbs.twimg.com/media/FGNFhmiXsAIjxN2.jpg\", \"https://pbs.twimg.com/media/FGNFhuMXwAAiBnO.jpg\", \"https://pbs.twimg.com/media/FGNFh1sX0AYr6v_.jpg\"], \"replies_count\": 2, \"retweets_count\": 2, \"likes_count\": 6, \"hashtags\": [\"spidermannowayhome\", \"venom\", \"spiderman\", \"fortnite\"], \"cashtags\": [], \"link\": \"https://twitter.com/_gl0w0_/status/1469094353222213635\", \"retweet\": false, \"quote_url\": \"\", \"video\": 1, \"thumbnail\": \"https://pbs.twimg.com/media/FGNFhdJXsAk7H44.jpg\", \"near\": \"\", \"geo\": \"\", \"source\": \"\", \"user_rt_id\": \"\", \"user_rt\": \"\", \"retweet_id\": \"\", \"reply_to\": [], \"retweet_date\": \"\", \"translate\": \"\", \"trans_src\": \"\", \"trans_dest\": \"\"}\n",
            "{\"id\": 1469094336952475651, \"conversation_id\": \"1469094336952475651\", \"created_at\": \"2021-12-09 23:59:19 UTC\", \"date\": \"2021-12-09\", \"time\": \"23:59:19\", \"timezone\": \"+0000\", \"user_id\": 1077215802, \"username\": \"if_alzayani\", \"name\": \"white wolf nwh era.\", \"place\": \"\", \"tweet\": \"Can’t believe we’re about to witness an Avengers Endgame level movie NEXT WEEK #SpiderManNoWayHome its been a while tbh.. !\", \"language\": \"en\", \"mentions\": [], \"urls\": [], \"photos\": [], \"replies_count\": 1, \"retweets_count\": 0, \"likes_count\": 0, \"hashtags\": [\"spidermannowayhome\"], \"cashtags\": [], \"link\": \"https://twitter.com/if_alzayani/status/1469094336952475651\", \"retweet\": false, \"quote_url\": \"\", \"video\": 0, \"thumbnail\": \"\", \"near\": \"\", \"geo\": \"\", \"source\": \"\", \"user_rt_id\": \"\", \"user_rt\": \"\", \"retweet_id\": \"\", \"reply_to\": [], \"retweet_date\": \"\", \"translate\": \"\", \"trans_src\": \"\", \"trans_dest\": \"\"}\n",
            "{\"id\": 1469094334444171264, \"conversation_id\": \"1468847528917409793\", \"created_at\": \"2021-12-09 23:59:18 UTC\", \"date\": \"2021-12-09\", \"time\": \"23:59:18\", \"timezone\": \"+0000\", \"user_id\": 1401597715, \"username\": \"love_kopisachet\", \"name\": \"Pecinta kopi Good Day\", \"place\": \"\", \"tweet\": \"@WatchmenID Tentu saja sudah mengamankan tiket. #SpiderManNoWayHome  https://t.co/UjvrijMcQQ\", \"language\": \"in\", \"mentions\": [], \"urls\": [], \"photos\": [\"https://pbs.twimg.com/media/FGNFgZUVUAMg-hQ.jpg\"], \"replies_count\": 0, \"retweets_count\": 0, \"likes_count\": 0, \"hashtags\": [\"spidermannowayhome\"], \"cashtags\": [], \"link\": \"https://twitter.com/love_kopisachet/status/1469094334444171264\", \"retweet\": false, \"quote_url\": \"\", \"video\": 1, \"thumbnail\": \"https://pbs.twimg.com/media/FGNFgZUVUAMg-hQ.jpg\", \"near\": \"\", \"geo\": \"\", \"source\": \"\", \"user_rt_id\": \"\", \"user_rt\": \"\", \"retweet_id\": \"\", \"reply_to\": [{\"screen_name\": \"WatchmenID\", \"name\": \"WatchmenID 🎬\", \"id\": \"950632407530577920\"}], \"retweet_date\": \"\", \"translate\": \"\", \"trans_src\": \"\", \"trans_dest\": \"\"}\n",
            "{\"id\": 1469094279628963842, \"conversation_id\": \"1469094279628963842\", \"created_at\": \"2021-12-09 23:59:05 UTC\", \"date\": \"2021-12-09\", \"time\": \"23:59:05\", \"timezone\": \"+0000\", \"user_id\": 68804734, \"username\": \"lvercosa\", \"name\": \"Lucas Verçosa\", \"place\": \"\", \"tweet\": \"É isso aí galera. Também faço parte do Aranha-Verso. Quinta-feira tamos juntos no cinema. #SpiderVerse  #SpiderManNoWayHome #HomemAranhaSemVoltaParaCasa  https://t.co/Me5XWnBrjd\", \"language\": \"pt\", \"mentions\": [], \"urls\": [], \"photos\": [\"https://pbs.twimg.com/media/FGNFO_QXIAo0W4T.jpg\", \"https://pbs.twimg.com/media/FGNFO_OXIAEdWiA.jpg\", \"https://pbs.twimg.com/media/FGNFO_TXMAIsk7v.jpg\"], \"replies_count\": 0, \"retweets_count\": 0, \"likes_count\": 0, \"hashtags\": [\"spiderverse\", \"spidermannowayhome\", \"homemaranhasemvoltaparacasa\"], \"cashtags\": [], \"link\": \"https://twitter.com/lvercosa/status/1469094279628963842\", \"retweet\": false, \"quote_url\": \"\", \"video\": 1, \"thumbnail\": \"https://pbs.twimg.com/media/FGNFO_QXIAo0W4T.jpg\", \"near\": \"\", \"geo\": \"\", \"source\": \"\", \"user_rt_id\": \"\", \"user_rt\": \"\", \"retweet_id\": \"\", \"reply_to\": [], \"retweet_date\": \"\", \"translate\": \"\", \"trans_src\": \"\", \"trans_dest\": \"\"}\n",
            "{\"id\": 1469094161307611138, \"conversation_id\": \"1469094161307611138\", \"created_at\": \"2021-12-09 23:58:37 UTC\", \"date\": \"2021-12-09\", \"time\": \"23:58:37\", \"timezone\": \"+0000\", \"user_id\": 1260267784862265346, \"username\": \"nacionflix\", \"name\": \"Nación Flix Oficial\", \"place\": \"\", \"tweet\": \"Yo solo quiero decir que los superhéroes dominaron el 2021, y que #SpiderManNoWayHome podría ser el máximo fenómeno aun sin estrenarse   https://t.co/6sfj97ChSh\", \"language\": \"es\", \"mentions\": [], \"urls\": [\"https://www.nacionflix.com/cine/Spiderman-3-y-La-Liga-de-la-Justicia-Snyder-Cut-dominan-las-10-peliculas-mas-debatidas-del-2021-20211209-0021.html\"], \"photos\": [], \"replies_count\": 0, \"retweets_count\": 0, \"likes_count\": 0, \"hashtags\": [\"spidermannowayhome\"], \"cashtags\": [], \"link\": \"https://twitter.com/NacionFlix/status/1469094161307611138\", \"retweet\": false, \"quote_url\": \"\", \"video\": 0, \"thumbnail\": \"\", \"near\": \"\", \"geo\": \"\", \"source\": \"\", \"user_rt_id\": \"\", \"user_rt\": \"\", \"retweet_id\": \"\", \"reply_to\": [], \"retweet_date\": \"\", \"translate\": \"\", \"trans_src\": \"\", \"trans_dest\": \"\"}\n"
          ]
        }
      ]
    },
    {
      "cell_type": "code",
      "source": [
        "!tail -n5 SpiderManNoWayHome.json"
      ],
      "metadata": {
        "colab": {
          "base_uri": "https://localhost:8080/"
        },
        "id": "aDSftluC3iMy",
        "outputId": "b22792d1-48e1-4411-a587-72098739c11b"
      },
      "execution_count": null,
      "outputs": [
        {
          "output_type": "stream",
          "name": "stdout",
          "text": [
            "{\"id\": 1466129856538845186, \"conversation_id\": \"1466129856538845186\", \"created_at\": \"2021-12-01 19:39:31 UTC\", \"date\": \"2021-12-01\", \"time\": \"19:39:31\", \"timezone\": \"+0000\", \"user_id\": 2480221081, \"username\": \"fdezxcobo\", \"name\": \"𝐬𝐞𝐧𝐬𝐞 𝐟𝐚𝐥𝐥𝐨𝐬🍿𝐦𝐞𝐬 𝐪𝐮𝐞 𝐦𝐚𝐢💖\", \"place\": \"\", \"tweet\": \"‼ATENCIÓN‼   Me equivoqué al coger la entrada de #SpiderManNoWayHome para el JUEVES 16 DE DICIEMBRE A LAS 19:00 HORAS en CINE YELMO PREMIUM EL FARO de BADAJOZ  La butaca es H9 (centrado en penúltima fila). La vendo por 5 EUROS  MD Interesados   RT para difundir  https://t.co/52ScvtfhX1\", \"language\": \"es\", \"mentions\": [], \"urls\": [], \"photos\": [\"https://pbs.twimg.com/tweet_video_thumb/FFi9VHGXsAE0Ehd.jpg\"], \"replies_count\": 0, \"retweets_count\": 13, \"likes_count\": 7, \"hashtags\": [\"spidermannowayhome\"], \"cashtags\": [], \"link\": \"https://twitter.com/fdezxcobo/status/1466129856538845186\", \"retweet\": false, \"quote_url\": \"\", \"video\": 1, \"thumbnail\": \"https://pbs.twimg.com/tweet_video_thumb/FFi9VHGXsAE0Ehd.jpg\", \"near\": \"\", \"geo\": \"\", \"source\": \"\", \"user_rt_id\": \"\", \"user_rt\": \"\", \"retweet_id\": \"\", \"reply_to\": [], \"retweet_date\": \"\", \"translate\": \"\", \"trans_src\": \"\", \"trans_dest\": \"\"}\n",
            "{\"id\": 1466129676691193858, \"conversation_id\": \"1466129676691193858\", \"created_at\": \"2021-12-01 19:38:48 UTC\", \"date\": \"2021-12-01\", \"time\": \"19:38:48\", \"timezone\": \"+0000\", \"user_id\": 1341428429997137928, \"username\": \"dmolriv\", \"name\": \"🕸️Derek Molriv\", \"place\": \"\", \"tweet\": \"#SpidermanNoWayHome #PS4share   https://t.co/15t8pNrUeb  https://t.co/Y9fJOdCfdq\", \"language\": \"und\", \"mentions\": [], \"urls\": [\"https://store.playstation.com/#!/tid=CUSA02299_00\"], \"photos\": [], \"replies_count\": 0, \"retweets_count\": 0, \"likes_count\": 1, \"hashtags\": [\"spidermannowayhome\", \"ps4share\"], \"cashtags\": [], \"link\": \"https://twitter.com/DMolriv/status/1466129676691193858\", \"retweet\": false, \"quote_url\": \"\", \"video\": 1, \"thumbnail\": \"https://pbs.twimg.com/ext_tw_video_thumb/1466129159474888710/pu/img/hY_Q_IMb2efx0Nxb.jpg\", \"near\": \"\", \"geo\": \"\", \"source\": \"\", \"user_rt_id\": \"\", \"user_rt\": \"\", \"retweet_id\": \"\", \"reply_to\": [], \"retweet_date\": \"\", \"translate\": \"\", \"trans_src\": \"\", \"trans_dest\": \"\"}\n",
            "{\"id\": 1466129561272344577, \"conversation_id\": \"1466129561272344577\", \"created_at\": \"2021-12-01 19:38:21 UTC\", \"date\": \"2021-12-01\", \"time\": \"19:38:21\", \"timezone\": \"+0000\", \"user_id\": 1449956417008508931, \"username\": \"mamad_dkt\", \"name\": \"🦁\", \"place\": \"\", \"tweet\": \"Rectification #SpiderManNoWayHome J -17\", \"language\": \"fr\", \"mentions\": [], \"urls\": [], \"photos\": [], \"replies_count\": 0, \"retweets_count\": 0, \"likes_count\": 1, \"hashtags\": [\"spidermannowayhome\"], \"cashtags\": [], \"link\": \"https://twitter.com/Mamad_Dkt/status/1466129561272344577\", \"retweet\": false, \"quote_url\": \"https://twitter.com/mrt_tessa/status/1465929225572077569\", \"video\": 0, \"thumbnail\": \"\", \"near\": \"\", \"geo\": \"\", \"source\": \"\", \"user_rt_id\": \"\", \"user_rt\": \"\", \"retweet_id\": \"\", \"reply_to\": [], \"retweet_date\": \"\", \"translate\": \"\", \"trans_src\": \"\", \"trans_dest\": \"\"}\n",
            "{\"id\": 1466129479420497930, \"conversation_id\": \"1466129479420497930\", \"created_at\": \"2021-12-01 19:38:01 UTC\", \"date\": \"2021-12-01\", \"time\": \"19:38:01\", \"timezone\": \"+0000\", \"user_id\": 826020062440128512, \"username\": \"lightsheffield\", \"name\": \"The Light Sheffield\", \"place\": \"\", \"tweet\": \"Calling all you Spidey fans, check out our exclusive #SpiderManNoWayHome combo - available to pre-order online during ticket purchase or in cinema from 15 December. 🕷️  https://t.co/Fn2lL3452b  https://t.co/XGAITjeAeA\", \"language\": \"en\", \"mentions\": [], \"urls\": [\"https://bit.ly/2XSFd9l\"], \"photos\": [\"https://pbs.twimg.com/media/FFi8_X5XEAIPkvU.jpg\"], \"replies_count\": 1, \"retweets_count\": 0, \"likes_count\": 3, \"hashtags\": [\"spidermannowayhome\"], \"cashtags\": [], \"link\": \"https://twitter.com/LightSheffield/status/1466129479420497930\", \"retweet\": false, \"quote_url\": \"\", \"video\": 1, \"thumbnail\": \"https://pbs.twimg.com/media/FFi8_X5XEAIPkvU.jpg\", \"near\": \"\", \"geo\": \"\", \"source\": \"\", \"user_rt_id\": \"\", \"user_rt\": \"\", \"retweet_id\": \"\", \"reply_to\": [], \"retweet_date\": \"\", \"translate\": \"\", \"trans_src\": \"\", \"trans_dest\": \"\"}\n",
            "{\"id\": 1466129415356784644, \"conversation_id\": \"1466124380988219398\", \"created_at\": \"2021-12-01 19:37:46 UTC\", \"date\": \"2021-12-01\", \"time\": \"19:37:46\", \"timezone\": \"+0000\", \"user_id\": 962134568605241344, \"username\": \"boy_band_stan\", \"name\": \"Boy_Band_Stan⁷\", \"place\": \"\", \"tweet\": \"@_Nick_Nation_ @WHOTheBckstreet @nickcarter @Cure4thekids Thank you for the update! I wasn't sure if I was going to be able to participate in Nick's #Home4TheHolidays event since I had already secured coveted, premier-night, #SpiderManNoWayHome tickets at my local #IMAX happening that same night! But now I can enjoy BOTH!!! ☺  https://t.co/iAjfmSiKFZ\", \"language\": \"en\", \"mentions\": [], \"urls\": [], \"photos\": [\"https://pbs.twimg.com/tweet_video_thumb/FFi87WEWYAMROTd.jpg\"], \"replies_count\": 1, \"retweets_count\": 0, \"likes_count\": 3, \"hashtags\": [\"home4theholidays\", \"spidermannowayhome\", \"imax\"], \"cashtags\": [], \"link\": \"https://twitter.com/Boy_Band_Stan/status/1466129415356784644\", \"retweet\": false, \"quote_url\": \"\", \"video\": 1, \"thumbnail\": \"https://pbs.twimg.com/tweet_video_thumb/FFi87WEWYAMROTd.jpg\", \"near\": \"\", \"geo\": \"\", \"source\": \"\", \"user_rt_id\": \"\", \"user_rt\": \"\", \"retweet_id\": \"\", \"reply_to\": [{\"screen_name\": \"_Nick_Nation_\", \"name\": \"Nick Nation\", \"id\": \"4560764232\"}, {\"screen_name\": \"WHOTheBckstreet\", \"name\": \"What Happens On The Backstreet\", \"id\": \"2951349235\"}, {\"screen_name\": \"nickcarter\", \"name\": \"Nick Carter\", \"id\": \"24325547\"}, {\"screen_name\": \"Cure4thekids\", \"name\": \"Cure 4 The Kids\", \"id\": \"375122543\"}], \"retweet_date\": \"\", \"translate\": \"\", \"trans_src\": \"\", \"trans_dest\": \"\"}\n"
          ]
        }
      ]
    },
    {
      "cell_type": "markdown",
      "metadata": {
        "id": "Jk2U7wS1CQ4V"
      },
      "source": [
        "## Pre-Processing"
      ]
    },
    {
      "cell_type": "markdown",
      "metadata": {
        "id": "Wq89C2mkB-KP"
      },
      "source": [
        "### Reindex"
      ]
    },
    {
      "cell_type": "code",
      "execution_count": null,
      "metadata": {
        "colab": {
          "base_uri": "https://localhost:8080/",
          "height": 650
        },
        "id": "jCvKzAGlB5fP",
        "outputId": "abb6eca6-f79d-42a7-8d5d-c820ade11ed0"
      },
      "outputs": [
        {
          "output_type": "execute_result",
          "data": {
            "text/html": [
              "<div>\n",
              "<style scoped>\n",
              "    .dataframe tbody tr th:only-of-type {\n",
              "        vertical-align: middle;\n",
              "    }\n",
              "\n",
              "    .dataframe tbody tr th {\n",
              "        vertical-align: top;\n",
              "    }\n",
              "\n",
              "    .dataframe thead th {\n",
              "        text-align: right;\n",
              "    }\n",
              "</style>\n",
              "<table border=\"1\" class=\"dataframe\">\n",
              "  <thead>\n",
              "    <tr style=\"text-align: right;\">\n",
              "      <th></th>\n",
              "      <th>id</th>\n",
              "      <th>created_at</th>\n",
              "      <th>date</th>\n",
              "      <th>tweet</th>\n",
              "      <th>language</th>\n",
              "    </tr>\n",
              "  </thead>\n",
              "  <tbody>\n",
              "    <tr>\n",
              "      <th>1</th>\n",
              "      <td>1469094336952475651</td>\n",
              "      <td>2021-12-10 06:59:19+07:00</td>\n",
              "      <td>2021-12-09</td>\n",
              "      <td>Can’t believe we’re about to witness an Avengers Endgame level movie NEXT WEEK #SpiderManNoWayHome its been a while tbh.. !</td>\n",
              "      <td>en</td>\n",
              "    </tr>\n",
              "    <tr>\n",
              "      <th>8</th>\n",
              "      <td>1469093770918572039</td>\n",
              "      <td>2021-12-10 06:57:04+07:00</td>\n",
              "      <td>2021-12-09</td>\n",
              "      <td>Im waiting 👀 #SpiderManNoWayHome  @MarvelStudios  https://t.co/AnFH8pET5w</td>\n",
              "      <td>en</td>\n",
              "    </tr>\n",
              "    <tr>\n",
              "      <th>9</th>\n",
              "      <td>1469093536628985857</td>\n",
              "      <td>2021-12-10 06:56:08+07:00</td>\n",
              "      <td>2021-12-09</td>\n",
              "      <td>One week away #SpiderManNoWayHome  https://t.co/eVlQt9wvNm</td>\n",
              "      <td>en</td>\n",
              "    </tr>\n",
              "    <tr>\n",
              "      <th>10</th>\n",
              "      <td>1469093126367158272</td>\n",
              "      <td>2021-12-10 06:54:30+07:00</td>\n",
              "      <td>2021-12-09</td>\n",
              "      <td>Show me who you would cast as Harry Osborn in the MCU after #SpiderManNoWayHome</td>\n",
              "      <td>en</td>\n",
              "    </tr>\n",
              "    <tr>\n",
              "      <th>13</th>\n",
              "      <td>1469092855377539075</td>\n",
              "      <td>2021-12-10 06:53:25+07:00</td>\n",
              "      <td>2021-12-09</td>\n",
              "      <td>@ComicBook New Scene from the #DoctorOctopus streetfight  for #SpiderManNoWayHome  we see here a British Spiderman ,  Sparking his marbles on the street , something you never saw in original Spiderman Books , cause that wouldnt work with anything spiderman does ,  \" Nuts-on-Fire \"</td>\n",
              "      <td>en</td>\n",
              "    </tr>\n",
              "    <tr>\n",
              "      <th>...</th>\n",
              "      <td>...</td>\n",
              "      <td>...</td>\n",
              "      <td>...</td>\n",
              "      <td>...</td>\n",
              "      <td>...</td>\n",
              "    </tr>\n",
              "    <tr>\n",
              "      <th>44144</th>\n",
              "      <td>1466130115734253572</td>\n",
              "      <td>2021-12-02 02:40:33+07:00</td>\n",
              "      <td>2021-12-01</td>\n",
              "      <td>Guess what month it is 😈 #SpiderMan #SpiderManNoWayHome  https://t.co/HbbOm22nMA</td>\n",
              "      <td>en</td>\n",
              "    </tr>\n",
              "    <tr>\n",
              "      <th>44146</th>\n",
              "      <td>1466130099426803712</td>\n",
              "      <td>2021-12-02 02:40:29+07:00</td>\n",
              "      <td>2021-12-01</td>\n",
              "      <td>15 Days To Go 🚨 #SpiderManNoWayHome  https://t.co/9OPkLG3b9N</td>\n",
              "      <td>en</td>\n",
              "    </tr>\n",
              "    <tr>\n",
              "      <th>44149</th>\n",
              "      <td>1466129865992814603</td>\n",
              "      <td>2021-12-02 02:39:34+07:00</td>\n",
              "      <td>2021-12-01</td>\n",
              "      <td>@SonyPictures We know you could do better. 👀 #SpiderManNoWayHome  https://t.co/qqCsJq5BKC</td>\n",
              "      <td>en</td>\n",
              "    </tr>\n",
              "    <tr>\n",
              "      <th>44153</th>\n",
              "      <td>1466129479420497930</td>\n",
              "      <td>2021-12-02 02:38:01+07:00</td>\n",
              "      <td>2021-12-01</td>\n",
              "      <td>Calling all you Spidey fans, check out our exclusive #SpiderManNoWayHome combo - available to pre-order online during ticket purchase or in cinema from 15 December. 🕷️  https://t.co/Fn2lL3452b  https://t.co/XGAITjeAeA</td>\n",
              "      <td>en</td>\n",
              "    </tr>\n",
              "    <tr>\n",
              "      <th>44154</th>\n",
              "      <td>1466129415356784644</td>\n",
              "      <td>2021-12-02 02:37:46+07:00</td>\n",
              "      <td>2021-12-01</td>\n",
              "      <td>@_Nick_Nation_ @WHOTheBckstreet @nickcarter @Cure4thekids Thank you for the update! I wasn't sure if I was going to be able to participate in Nick's #Home4TheHolidays event since I had already secured coveted, premier-night, #SpiderManNoWayHome tickets at my local #IMAX happening that same night! But now I can enjoy BOTH!!! ☺  https://t.co/iAjfmSiKFZ</td>\n",
              "      <td>en</td>\n",
              "    </tr>\n",
              "  </tbody>\n",
              "</table>\n",
              "<p>20755 rows × 5 columns</p>\n",
              "</div>"
            ],
            "text/plain": [
              "                        id                created_at       date  \\\n",
              "1      1469094336952475651 2021-12-10 06:59:19+07:00 2021-12-09   \n",
              "8      1469093770918572039 2021-12-10 06:57:04+07:00 2021-12-09   \n",
              "9      1469093536628985857 2021-12-10 06:56:08+07:00 2021-12-09   \n",
              "10     1469093126367158272 2021-12-10 06:54:30+07:00 2021-12-09   \n",
              "13     1469092855377539075 2021-12-10 06:53:25+07:00 2021-12-09   \n",
              "...                    ...                       ...        ...   \n",
              "44144  1466130115734253572 2021-12-02 02:40:33+07:00 2021-12-01   \n",
              "44146  1466130099426803712 2021-12-02 02:40:29+07:00 2021-12-01   \n",
              "44149  1466129865992814603 2021-12-02 02:39:34+07:00 2021-12-01   \n",
              "44153  1466129479420497930 2021-12-02 02:38:01+07:00 2021-12-01   \n",
              "44154  1466129415356784644 2021-12-02 02:37:46+07:00 2021-12-01   \n",
              "\n",
              "                                                                                                                                                                                                                                                                                                                                                                  tweet  \\\n",
              "1                                                                                                                                                                                                                                           Can’t believe we’re about to witness an Avengers Endgame level movie NEXT WEEK #SpiderManNoWayHome its been a while tbh.. !   \n",
              "8                                                                                                                                                                                                                                                                                             Im waiting 👀 #SpiderManNoWayHome  @MarvelStudios  https://t.co/AnFH8pET5w   \n",
              "9                                                                                                                                                                                                                                                                                                            One week away #SpiderManNoWayHome  https://t.co/eVlQt9wvNm   \n",
              "10                                                                                                                                                                                                                                                                                      Show me who you would cast as Harry Osborn in the MCU after #SpiderManNoWayHome   \n",
              "13                                                                            @ComicBook New Scene from the #DoctorOctopus streetfight  for #SpiderManNoWayHome  we see here a British Spiderman ,  Sparking his marbles on the street , something you never saw in original Spiderman Books , cause that wouldnt work with anything spiderman does ,  \" Nuts-on-Fire \"   \n",
              "...                                                                                                                                                                                                                                                                                                                                                                 ...   \n",
              "44144                                                                                                                                                                                                                                                                                  Guess what month it is 😈 #SpiderMan #SpiderManNoWayHome  https://t.co/HbbOm22nMA   \n",
              "44146                                                                                                                                                                                                                                                                                                      15 Days To Go 🚨 #SpiderManNoWayHome  https://t.co/9OPkLG3b9N   \n",
              "44149                                                                                                                                                                                                                                                                         @SonyPictures We know you could do better. 👀 #SpiderManNoWayHome  https://t.co/qqCsJq5BKC   \n",
              "44153                                                                                                                                         Calling all you Spidey fans, check out our exclusive #SpiderManNoWayHome combo - available to pre-order online during ticket purchase or in cinema from 15 December. 🕷️  https://t.co/Fn2lL3452b  https://t.co/XGAITjeAeA   \n",
              "44154  @_Nick_Nation_ @WHOTheBckstreet @nickcarter @Cure4thekids Thank you for the update! I wasn't sure if I was going to be able to participate in Nick's #Home4TheHolidays event since I had already secured coveted, premier-night, #SpiderManNoWayHome tickets at my local #IMAX happening that same night! But now I can enjoy BOTH!!! ☺  https://t.co/iAjfmSiKFZ   \n",
              "\n",
              "      language  \n",
              "1           en  \n",
              "8           en  \n",
              "9           en  \n",
              "10          en  \n",
              "13          en  \n",
              "...        ...  \n",
              "44144       en  \n",
              "44146       en  \n",
              "44149       en  \n",
              "44153       en  \n",
              "44154       en  \n",
              "\n",
              "[20755 rows x 5 columns]"
            ]
          },
          "metadata": {},
          "execution_count": 10
        }
      ],
      "source": [
        "df = pd.read_json(\"{}.json\".format(PROJECT_NAME), lines = True)\n",
        "\n",
        "df.index = range(len(df))\n",
        "\n",
        "df[\"created_at\"] = pd.to_datetime(df[\"created_at\"]).dt.tz_convert(\"Asia/Jakarta\")\n",
        "df[\"date\"] = pd.to_datetime(df[\"date\"])\n",
        "df[\"id\"] = pd.to_numeric(df[\"id\"])\n",
        "df_tweets = df[df[\"language\"] == \"en\"]\n",
        "df_tweets[[\"id\",\"created_at\",\"date\",\"tweet\",\"language\"]]"
      ]
    },
    {
      "cell_type": "markdown",
      "metadata": {
        "id": "FTLcc_OTCKNL"
      },
      "source": [
        "### Drop duplicate"
      ]
    },
    {
      "cell_type": "code",
      "execution_count": null,
      "metadata": {
        "colab": {
          "base_uri": "https://localhost:8080/",
          "height": 650
        },
        "id": "lVWM1y8KCGlN",
        "outputId": "13a745e8-7261-4b25-b4b3-d07a1570a351"
      },
      "outputs": [
        {
          "output_type": "execute_result",
          "data": {
            "text/html": [
              "<div>\n",
              "<style scoped>\n",
              "    .dataframe tbody tr th:only-of-type {\n",
              "        vertical-align: middle;\n",
              "    }\n",
              "\n",
              "    .dataframe tbody tr th {\n",
              "        vertical-align: top;\n",
              "    }\n",
              "\n",
              "    .dataframe thead th {\n",
              "        text-align: right;\n",
              "    }\n",
              "</style>\n",
              "<table border=\"1\" class=\"dataframe\">\n",
              "  <thead>\n",
              "    <tr style=\"text-align: right;\">\n",
              "      <th></th>\n",
              "      <th>id</th>\n",
              "      <th>created_at</th>\n",
              "      <th>date</th>\n",
              "      <th>tweet</th>\n",
              "      <th>language</th>\n",
              "    </tr>\n",
              "  </thead>\n",
              "  <tbody>\n",
              "    <tr>\n",
              "      <th>0</th>\n",
              "      <td>1469094336952475651</td>\n",
              "      <td>2021-12-10 06:59:19+07:00</td>\n",
              "      <td>2021-12-09</td>\n",
              "      <td>Can’t believe we’re about to witness an Avengers Endgame level movie NEXT WEEK #SpiderManNoWayHome its been a while tbh.. !</td>\n",
              "      <td>en</td>\n",
              "    </tr>\n",
              "    <tr>\n",
              "      <th>1</th>\n",
              "      <td>1469093770918572039</td>\n",
              "      <td>2021-12-10 06:57:04+07:00</td>\n",
              "      <td>2021-12-09</td>\n",
              "      <td>Im waiting 👀 #SpiderManNoWayHome  @MarvelStudios  https://t.co/AnFH8pET5w</td>\n",
              "      <td>en</td>\n",
              "    </tr>\n",
              "    <tr>\n",
              "      <th>2</th>\n",
              "      <td>1469093536628985857</td>\n",
              "      <td>2021-12-10 06:56:08+07:00</td>\n",
              "      <td>2021-12-09</td>\n",
              "      <td>One week away #SpiderManNoWayHome  https://t.co/eVlQt9wvNm</td>\n",
              "      <td>en</td>\n",
              "    </tr>\n",
              "    <tr>\n",
              "      <th>3</th>\n",
              "      <td>1469093126367158272</td>\n",
              "      <td>2021-12-10 06:54:30+07:00</td>\n",
              "      <td>2021-12-09</td>\n",
              "      <td>Show me who you would cast as Harry Osborn in the MCU after #SpiderManNoWayHome</td>\n",
              "      <td>en</td>\n",
              "    </tr>\n",
              "    <tr>\n",
              "      <th>4</th>\n",
              "      <td>1469092855377539075</td>\n",
              "      <td>2021-12-10 06:53:25+07:00</td>\n",
              "      <td>2021-12-09</td>\n",
              "      <td>@ComicBook New Scene from the #DoctorOctopus streetfight  for #SpiderManNoWayHome  we see here a British Spiderman ,  Sparking his marbles on the street , something you never saw in original Spiderman Books , cause that wouldnt work with anything spiderman does ,  \" Nuts-on-Fire \"</td>\n",
              "      <td>en</td>\n",
              "    </tr>\n",
              "    <tr>\n",
              "      <th>...</th>\n",
              "      <td>...</td>\n",
              "      <td>...</td>\n",
              "      <td>...</td>\n",
              "      <td>...</td>\n",
              "      <td>...</td>\n",
              "    </tr>\n",
              "    <tr>\n",
              "      <th>20750</th>\n",
              "      <td>1466130115734253572</td>\n",
              "      <td>2021-12-02 02:40:33+07:00</td>\n",
              "      <td>2021-12-01</td>\n",
              "      <td>Guess what month it is 😈 #SpiderMan #SpiderManNoWayHome  https://t.co/HbbOm22nMA</td>\n",
              "      <td>en</td>\n",
              "    </tr>\n",
              "    <tr>\n",
              "      <th>20751</th>\n",
              "      <td>1466130099426803712</td>\n",
              "      <td>2021-12-02 02:40:29+07:00</td>\n",
              "      <td>2021-12-01</td>\n",
              "      <td>15 Days To Go 🚨 #SpiderManNoWayHome  https://t.co/9OPkLG3b9N</td>\n",
              "      <td>en</td>\n",
              "    </tr>\n",
              "    <tr>\n",
              "      <th>20752</th>\n",
              "      <td>1466129865992814603</td>\n",
              "      <td>2021-12-02 02:39:34+07:00</td>\n",
              "      <td>2021-12-01</td>\n",
              "      <td>@SonyPictures We know you could do better. 👀 #SpiderManNoWayHome  https://t.co/qqCsJq5BKC</td>\n",
              "      <td>en</td>\n",
              "    </tr>\n",
              "    <tr>\n",
              "      <th>20753</th>\n",
              "      <td>1466129479420497930</td>\n",
              "      <td>2021-12-02 02:38:01+07:00</td>\n",
              "      <td>2021-12-01</td>\n",
              "      <td>Calling all you Spidey fans, check out our exclusive #SpiderManNoWayHome combo - available to pre-order online during ticket purchase or in cinema from 15 December. 🕷️  https://t.co/Fn2lL3452b  https://t.co/XGAITjeAeA</td>\n",
              "      <td>en</td>\n",
              "    </tr>\n",
              "    <tr>\n",
              "      <th>20754</th>\n",
              "      <td>1466129415356784644</td>\n",
              "      <td>2021-12-02 02:37:46+07:00</td>\n",
              "      <td>2021-12-01</td>\n",
              "      <td>@_Nick_Nation_ @WHOTheBckstreet @nickcarter @Cure4thekids Thank you for the update! I wasn't sure if I was going to be able to participate in Nick's #Home4TheHolidays event since I had already secured coveted, premier-night, #SpiderManNoWayHome tickets at my local #IMAX happening that same night! But now I can enjoy BOTH!!! ☺  https://t.co/iAjfmSiKFZ</td>\n",
              "      <td>en</td>\n",
              "    </tr>\n",
              "  </tbody>\n",
              "</table>\n",
              "<p>20755 rows × 5 columns</p>\n",
              "</div>"
            ],
            "text/plain": [
              "                        id                created_at       date  \\\n",
              "0      1469094336952475651 2021-12-10 06:59:19+07:00 2021-12-09   \n",
              "1      1469093770918572039 2021-12-10 06:57:04+07:00 2021-12-09   \n",
              "2      1469093536628985857 2021-12-10 06:56:08+07:00 2021-12-09   \n",
              "3      1469093126367158272 2021-12-10 06:54:30+07:00 2021-12-09   \n",
              "4      1469092855377539075 2021-12-10 06:53:25+07:00 2021-12-09   \n",
              "...                    ...                       ...        ...   \n",
              "20750  1466130115734253572 2021-12-02 02:40:33+07:00 2021-12-01   \n",
              "20751  1466130099426803712 2021-12-02 02:40:29+07:00 2021-12-01   \n",
              "20752  1466129865992814603 2021-12-02 02:39:34+07:00 2021-12-01   \n",
              "20753  1466129479420497930 2021-12-02 02:38:01+07:00 2021-12-01   \n",
              "20754  1466129415356784644 2021-12-02 02:37:46+07:00 2021-12-01   \n",
              "\n",
              "                                                                                                                                                                                                                                                                                                                                                                  tweet  \\\n",
              "0                                                                                                                                                                                                                                           Can’t believe we’re about to witness an Avengers Endgame level movie NEXT WEEK #SpiderManNoWayHome its been a while tbh.. !   \n",
              "1                                                                                                                                                                                                                                                                                             Im waiting 👀 #SpiderManNoWayHome  @MarvelStudios  https://t.co/AnFH8pET5w   \n",
              "2                                                                                                                                                                                                                                                                                                            One week away #SpiderManNoWayHome  https://t.co/eVlQt9wvNm   \n",
              "3                                                                                                                                                                                                                                                                                       Show me who you would cast as Harry Osborn in the MCU after #SpiderManNoWayHome   \n",
              "4                                                                             @ComicBook New Scene from the #DoctorOctopus streetfight  for #SpiderManNoWayHome  we see here a British Spiderman ,  Sparking his marbles on the street , something you never saw in original Spiderman Books , cause that wouldnt work with anything spiderman does ,  \" Nuts-on-Fire \"   \n",
              "...                                                                                                                                                                                                                                                                                                                                                                 ...   \n",
              "20750                                                                                                                                                                                                                                                                                  Guess what month it is 😈 #SpiderMan #SpiderManNoWayHome  https://t.co/HbbOm22nMA   \n",
              "20751                                                                                                                                                                                                                                                                                                      15 Days To Go 🚨 #SpiderManNoWayHome  https://t.co/9OPkLG3b9N   \n",
              "20752                                                                                                                                                                                                                                                                         @SonyPictures We know you could do better. 👀 #SpiderManNoWayHome  https://t.co/qqCsJq5BKC   \n",
              "20753                                                                                                                                         Calling all you Spidey fans, check out our exclusive #SpiderManNoWayHome combo - available to pre-order online during ticket purchase or in cinema from 15 December. 🕷️  https://t.co/Fn2lL3452b  https://t.co/XGAITjeAeA   \n",
              "20754  @_Nick_Nation_ @WHOTheBckstreet @nickcarter @Cure4thekids Thank you for the update! I wasn't sure if I was going to be able to participate in Nick's #Home4TheHolidays event since I had already secured coveted, premier-night, #SpiderManNoWayHome tickets at my local #IMAX happening that same night! But now I can enjoy BOTH!!! ☺  https://t.co/iAjfmSiKFZ   \n",
              "\n",
              "      language  \n",
              "0           en  \n",
              "1           en  \n",
              "2           en  \n",
              "3           en  \n",
              "4           en  \n",
              "...        ...  \n",
              "20750       en  \n",
              "20751       en  \n",
              "20752       en  \n",
              "20753       en  \n",
              "20754       en  \n",
              "\n",
              "[20755 rows x 5 columns]"
            ]
          },
          "metadata": {},
          "execution_count": 11
        }
      ],
      "source": [
        "df_tweets = pd.concat([df_tweets, df_tweets]).drop_duplicates(subset=['id'])\n",
        "df_tweets.index = range(len(df_tweets))\n",
        "\n",
        "df_tweets[[\"id\",\"created_at\",\"date\",\"tweet\",\"language\"]]"
      ]
    },
    {
      "cell_type": "markdown",
      "metadata": {
        "id": "4sUCnWzGDGKL"
      },
      "source": [
        "### Clean tweets"
      ]
    },
    {
      "cell_type": "code",
      "execution_count": null,
      "metadata": {
        "colab": {
          "base_uri": "https://localhost:8080/",
          "height": 597
        },
        "id": "h1HYLLPbCVjH",
        "outputId": "ae4bb966-c3e8-4e25-9b34-5dfe77e5f947"
      },
      "outputs": [
        {
          "output_type": "execute_result",
          "data": {
            "text/html": [
              "<div>\n",
              "<style scoped>\n",
              "    .dataframe tbody tr th:only-of-type {\n",
              "        vertical-align: middle;\n",
              "    }\n",
              "\n",
              "    .dataframe tbody tr th {\n",
              "        vertical-align: top;\n",
              "    }\n",
              "\n",
              "    .dataframe thead th {\n",
              "        text-align: right;\n",
              "    }\n",
              "</style>\n",
              "<table border=\"1\" class=\"dataframe\">\n",
              "  <thead>\n",
              "    <tr style=\"text-align: right;\">\n",
              "      <th></th>\n",
              "      <th>id</th>\n",
              "      <th>created_at</th>\n",
              "      <th>date</th>\n",
              "      <th>tweet</th>\n",
              "      <th>language</th>\n",
              "    </tr>\n",
              "  </thead>\n",
              "  <tbody>\n",
              "    <tr>\n",
              "      <th>0</th>\n",
              "      <td>1469094336952475651</td>\n",
              "      <td>2021-12-10 06:59:19+07:00</td>\n",
              "      <td>2021-12-09</td>\n",
              "      <td>Cant believe were about to witness an Avengers Endgame level movie NEXT WEEK its been a while tbh</td>\n",
              "      <td>en</td>\n",
              "    </tr>\n",
              "    <tr>\n",
              "      <th>1</th>\n",
              "      <td>1469093770918572039</td>\n",
              "      <td>2021-12-10 06:57:04+07:00</td>\n",
              "      <td>2021-12-09</td>\n",
              "      <td>Im waiting</td>\n",
              "      <td>en</td>\n",
              "    </tr>\n",
              "    <tr>\n",
              "      <th>2</th>\n",
              "      <td>1469093536628985857</td>\n",
              "      <td>2021-12-10 06:56:08+07:00</td>\n",
              "      <td>2021-12-09</td>\n",
              "      <td>One week away</td>\n",
              "      <td>en</td>\n",
              "    </tr>\n",
              "    <tr>\n",
              "      <th>3</th>\n",
              "      <td>1469093126367158272</td>\n",
              "      <td>2021-12-10 06:54:30+07:00</td>\n",
              "      <td>2021-12-09</td>\n",
              "      <td>Show me who you would cast as Harry Osborn in the MCU after</td>\n",
              "      <td>en</td>\n",
              "    </tr>\n",
              "    <tr>\n",
              "      <th>4</th>\n",
              "      <td>1469092855377539075</td>\n",
              "      <td>2021-12-10 06:53:25+07:00</td>\n",
              "      <td>2021-12-09</td>\n",
              "      <td>New Scene from the streetfight for we see here a British Spiderman Sparking his marbles on the street something you never saw in original Spiderman Books cause that wouldnt work with anything spiderman does Nuts on Fire</td>\n",
              "      <td>en</td>\n",
              "    </tr>\n",
              "    <tr>\n",
              "      <th>...</th>\n",
              "      <td>...</td>\n",
              "      <td>...</td>\n",
              "      <td>...</td>\n",
              "      <td>...</td>\n",
              "      <td>...</td>\n",
              "    </tr>\n",
              "    <tr>\n",
              "      <th>20750</th>\n",
              "      <td>1466130115734253572</td>\n",
              "      <td>2021-12-02 02:40:33+07:00</td>\n",
              "      <td>2021-12-01</td>\n",
              "      <td>Guess what month it is</td>\n",
              "      <td>en</td>\n",
              "    </tr>\n",
              "    <tr>\n",
              "      <th>20751</th>\n",
              "      <td>1466130099426803712</td>\n",
              "      <td>2021-12-02 02:40:29+07:00</td>\n",
              "      <td>2021-12-01</td>\n",
              "      <td>15 Days To Go</td>\n",
              "      <td>en</td>\n",
              "    </tr>\n",
              "    <tr>\n",
              "      <th>20752</th>\n",
              "      <td>1466129865992814603</td>\n",
              "      <td>2021-12-02 02:39:34+07:00</td>\n",
              "      <td>2021-12-01</td>\n",
              "      <td>We know you could do better</td>\n",
              "      <td>en</td>\n",
              "    </tr>\n",
              "    <tr>\n",
              "      <th>20753</th>\n",
              "      <td>1466129479420497930</td>\n",
              "      <td>2021-12-02 02:38:01+07:00</td>\n",
              "      <td>2021-12-01</td>\n",
              "      <td>Calling all you Spidey fans check out our exclusive combo available to pre order online during ticket purchase or in cinema from 15 December</td>\n",
              "      <td>en</td>\n",
              "    </tr>\n",
              "    <tr>\n",
              "      <th>20754</th>\n",
              "      <td>1466129415356784644</td>\n",
              "      <td>2021-12-02 02:37:46+07:00</td>\n",
              "      <td>2021-12-01</td>\n",
              "      <td>Thank you for the update I wasn t sure if I was going to be able to participate in Nick s event since I had already secured coveted premier night tickets at my local happening that same night But now I can enjoy BOTH</td>\n",
              "      <td>en</td>\n",
              "    </tr>\n",
              "  </tbody>\n",
              "</table>\n",
              "<p>20755 rows × 5 columns</p>\n",
              "</div>"
            ],
            "text/plain": [
              "                        id                created_at       date  \\\n",
              "0      1469094336952475651 2021-12-10 06:59:19+07:00 2021-12-09   \n",
              "1      1469093770918572039 2021-12-10 06:57:04+07:00 2021-12-09   \n",
              "2      1469093536628985857 2021-12-10 06:56:08+07:00 2021-12-09   \n",
              "3      1469093126367158272 2021-12-10 06:54:30+07:00 2021-12-09   \n",
              "4      1469092855377539075 2021-12-10 06:53:25+07:00 2021-12-09   \n",
              "...                    ...                       ...        ...   \n",
              "20750  1466130115734253572 2021-12-02 02:40:33+07:00 2021-12-01   \n",
              "20751  1466130099426803712 2021-12-02 02:40:29+07:00 2021-12-01   \n",
              "20752  1466129865992814603 2021-12-02 02:39:34+07:00 2021-12-01   \n",
              "20753  1466129479420497930 2021-12-02 02:38:01+07:00 2021-12-01   \n",
              "20754  1466129415356784644 2021-12-02 02:37:46+07:00 2021-12-01   \n",
              "\n",
              "                                                                                                                                                                                                                              tweet  \\\n",
              "0                                                                                                                                Cant believe were about to witness an Avengers Endgame level movie NEXT WEEK its been a while tbh    \n",
              "1                                                                                                                                                                                                                        Im waiting   \n",
              "2                                                                                                                                                                                                                     One week away   \n",
              "3                                                                                                                                                                       Show me who you would cast as Harry Osborn in the MCU after   \n",
              "4      New Scene from the streetfight for we see here a British Spiderman Sparking his marbles on the street something you never saw in original Spiderman Books cause that wouldnt work with anything spiderman does Nuts on Fire    \n",
              "...                                                                                                                                                                                                                             ...   \n",
              "20750                                                                                                                                                                                                        Guess what month it is   \n",
              "20751                                                                                                                                                                                                                 15 Days To Go   \n",
              "20752                                                                                                                                                                                                  We know you could do better    \n",
              "20753                                                                                 Calling all you Spidey fans check out our exclusive combo available to pre order online during ticket purchase or in cinema from 15 December    \n",
              "20754     Thank you for the update I wasn t sure if I was going to be able to participate in Nick s event since I had already secured coveted premier night tickets at my local happening that same night But now I can enjoy BOTH    \n",
              "\n",
              "      language  \n",
              "0           en  \n",
              "1           en  \n",
              "2           en  \n",
              "3           en  \n",
              "4           en  \n",
              "...        ...  \n",
              "20750       en  \n",
              "20751       en  \n",
              "20752       en  \n",
              "20753       en  \n",
              "20754       en  \n",
              "\n",
              "[20755 rows x 5 columns]"
            ]
          },
          "metadata": {},
          "execution_count": 12
        }
      ],
      "source": [
        "df_tweets['tweet'] = [p.clean(tweet) for tweet in df_tweets['tweet']] # Clean tweets from any mention, emoji, hashtag, reserve words(such as FAV, RT), smiley, and url\n",
        "df_tweets['tweet'] = [re.sub(r\"[^a-zA-Z0-9]+\", ' ', tweet) for tweet in df_tweets['tweet']] # Only take alphanumeric tweet\n",
        "df_tweets[[\"id\",\"created_at\",\"date\",\"tweet\",\"language\"]]"
      ]
    },
    {
      "cell_type": "code",
      "execution_count": null,
      "metadata": {
        "colab": {
          "base_uri": "https://localhost:8080/",
          "height": 300
        },
        "id": "ec1Dp1BdCZfg",
        "outputId": "a9af8e2e-d953-4b71-accb-c362ebf54e65"
      },
      "outputs": [
        {
          "output_type": "execute_result",
          "data": {
            "text/html": [
              "<div>\n",
              "<style scoped>\n",
              "    .dataframe tbody tr th:only-of-type {\n",
              "        vertical-align: middle;\n",
              "    }\n",
              "\n",
              "    .dataframe tbody tr th {\n",
              "        vertical-align: top;\n",
              "    }\n",
              "\n",
              "    .dataframe thead th {\n",
              "        text-align: right;\n",
              "    }\n",
              "</style>\n",
              "<table border=\"1\" class=\"dataframe\">\n",
              "  <thead>\n",
              "    <tr style=\"text-align: right;\">\n",
              "      <th></th>\n",
              "      <th>id</th>\n",
              "      <th>conversation_id</th>\n",
              "      <th>timezone</th>\n",
              "      <th>user_id</th>\n",
              "      <th>replies_count</th>\n",
              "      <th>retweets_count</th>\n",
              "      <th>likes_count</th>\n",
              "      <th>video</th>\n",
              "    </tr>\n",
              "  </thead>\n",
              "  <tbody>\n",
              "    <tr>\n",
              "      <th>count</th>\n",
              "      <td>2.075500e+04</td>\n",
              "      <td>2.075500e+04</td>\n",
              "      <td>20755.0</td>\n",
              "      <td>2.075500e+04</td>\n",
              "      <td>20755.000000</td>\n",
              "      <td>20755.000000</td>\n",
              "      <td>20755.000000</td>\n",
              "      <td>20755.000000</td>\n",
              "    </tr>\n",
              "    <tr>\n",
              "      <th>mean</th>\n",
              "      <td>1.467575e+18</td>\n",
              "      <td>1.467422e+18</td>\n",
              "      <td>0.0</td>\n",
              "      <td>7.755664e+17</td>\n",
              "      <td>1.997735</td>\n",
              "      <td>12.252421</td>\n",
              "      <td>133.488075</td>\n",
              "      <td>0.537461</td>\n",
              "    </tr>\n",
              "    <tr>\n",
              "      <th>std</th>\n",
              "      <td>8.633366e+14</td>\n",
              "      <td>6.807405e+15</td>\n",
              "      <td>0.0</td>\n",
              "      <td>6.130939e+17</td>\n",
              "      <td>20.918435</td>\n",
              "      <td>111.649581</td>\n",
              "      <td>1059.142770</td>\n",
              "      <td>0.498607</td>\n",
              "    </tr>\n",
              "    <tr>\n",
              "      <th>min</th>\n",
              "      <td>1.466129e+18</td>\n",
              "      <td>8.070860e+17</td>\n",
              "      <td>0.0</td>\n",
              "      <td>5.244630e+05</td>\n",
              "      <td>0.000000</td>\n",
              "      <td>0.000000</td>\n",
              "      <td>0.000000</td>\n",
              "      <td>0.000000</td>\n",
              "    </tr>\n",
              "    <tr>\n",
              "      <th>25%</th>\n",
              "      <td>1.466813e+18</td>\n",
              "      <td>1.466802e+18</td>\n",
              "      <td>0.0</td>\n",
              "      <td>1.604771e+09</td>\n",
              "      <td>0.000000</td>\n",
              "      <td>0.000000</td>\n",
              "      <td>0.000000</td>\n",
              "      <td>0.000000</td>\n",
              "    </tr>\n",
              "    <tr>\n",
              "      <th>50%</th>\n",
              "      <td>1.467566e+18</td>\n",
              "      <td>1.467556e+18</td>\n",
              "      <td>0.0</td>\n",
              "      <td>1.048369e+18</td>\n",
              "      <td>0.000000</td>\n",
              "      <td>0.000000</td>\n",
              "      <td>1.000000</td>\n",
              "      <td>1.000000</td>\n",
              "    </tr>\n",
              "    <tr>\n",
              "      <th>75%</th>\n",
              "      <td>1.468326e+18</td>\n",
              "      <td>1.468315e+18</td>\n",
              "      <td>0.0</td>\n",
              "      <td>1.332094e+18</td>\n",
              "      <td>1.000000</td>\n",
              "      <td>1.000000</td>\n",
              "      <td>5.000000</td>\n",
              "      <td>1.000000</td>\n",
              "    </tr>\n",
              "    <tr>\n",
              "      <th>max</th>\n",
              "      <td>1.469094e+18</td>\n",
              "      <td>1.469094e+18</td>\n",
              "      <td>0.0</td>\n",
              "      <td>1.468979e+18</td>\n",
              "      <td>1894.000000</td>\n",
              "      <td>4991.000000</td>\n",
              "      <td>42755.000000</td>\n",
              "      <td>1.000000</td>\n",
              "    </tr>\n",
              "  </tbody>\n",
              "</table>\n",
              "</div>"
            ],
            "text/plain": [
              "                 id  conversation_id  timezone       user_id  replies_count  \\\n",
              "count  2.075500e+04     2.075500e+04   20755.0  2.075500e+04   20755.000000   \n",
              "mean   1.467575e+18     1.467422e+18       0.0  7.755664e+17       1.997735   \n",
              "std    8.633366e+14     6.807405e+15       0.0  6.130939e+17      20.918435   \n",
              "min    1.466129e+18     8.070860e+17       0.0  5.244630e+05       0.000000   \n",
              "25%    1.466813e+18     1.466802e+18       0.0  1.604771e+09       0.000000   \n",
              "50%    1.467566e+18     1.467556e+18       0.0  1.048369e+18       0.000000   \n",
              "75%    1.468326e+18     1.468315e+18       0.0  1.332094e+18       1.000000   \n",
              "max    1.469094e+18     1.469094e+18       0.0  1.468979e+18    1894.000000   \n",
              "\n",
              "       retweets_count   likes_count         video  \n",
              "count    20755.000000  20755.000000  20755.000000  \n",
              "mean        12.252421    133.488075      0.537461  \n",
              "std        111.649581   1059.142770      0.498607  \n",
              "min          0.000000      0.000000      0.000000  \n",
              "25%          0.000000      0.000000      0.000000  \n",
              "50%          0.000000      1.000000      1.000000  \n",
              "75%          1.000000      5.000000      1.000000  \n",
              "max       4991.000000  42755.000000      1.000000  "
            ]
          },
          "metadata": {},
          "execution_count": 13
        }
      ],
      "source": [
        "df_tweets.describe()"
      ]
    },
    {
      "cell_type": "markdown",
      "metadata": {
        "id": "jk4VZQ-iC188"
      },
      "source": [
        "# Show distribution of tweets"
      ]
    },
    {
      "cell_type": "code",
      "execution_count": null,
      "metadata": {
        "colab": {
          "base_uri": "https://localhost:8080/",
          "height": 985
        },
        "id": "HV-jZv7iDPWk",
        "outputId": "42cdc936-2755-480e-9330-be3f338988af"
      },
      "outputs": [
        {
          "output_type": "display_data",
          "data": {
            "image/png": "[encoded data removed]",
            "text/plain": [
              "<Figure size 1728x1296 with 1 Axes>"
            ]
          },
          "metadata": {
            "needs_background": "light"
          }
        }
      ],
      "source": [
        "df_tweets[\"date\"] = pd.to_datetime(df_tweets[\"created_at\"]).dt.tz_convert('Asia/Jakarta')\n",
        "tmp = df_tweets.groupby(pd.to_datetime(df_tweets[\"date\"]).dt.floor('1H'))[\"id\"].count()\n",
        "weeks = mdates.WeekdayLocator()\n",
        "days = mdates.DayLocator()\n",
        "days_fmt = mdates.DateFormatter('%d-%m-%Y')\n",
        "\n",
        "fig, ax = plt.subplots(figsize=(24,18))\n",
        "plt.title(f\"Distribution of Tweets from #{PROJECT_NAME}\", fontsize=24)\n",
        "plt.ylabel('Total', fontsize=18)\n",
        "plt.xlabel('Date', fontsize=18)\n",
        "\n",
        "ax.xaxis.set_major_locator(days)\n",
        "ax.xaxis.set_major_formatter(days_fmt)\n",
        "ax.xaxis.set_minor_locator(weeks)\n",
        "\n",
        "ax.xaxis.label.set_size(18)\n",
        "ax.yaxis.label.set_size(18)\n",
        "\n",
        "plt.grid(True)\n",
        "plt.plot(tmp)\n",
        "plt.savefig('{}.jpg'.format(PROJECT_NAME))"
      ]
    },
    {
      "cell_type": "markdown",
      "metadata": {
        "id": "rz1VgRm8Dl-Y"
      },
      "source": [
        "# Save tweets as dataset"
      ]
    },
    {
      "cell_type": "code",
      "execution_count": null,
      "metadata": {
        "id": "G8zak9CWD1Qq"
      },
      "outputs": [],
      "source": [
        "df_tweets.to_json(r\"SpiderManNoWayHome_Tweets.json\")"
      ]
    },
    {
      "cell_type": "markdown",
      "metadata": {
        "id": "XAPy7b58STmU"
      },
      "source": [
        "#Implementing Sentiment Analysis"
      ]
    },
    {
      "cell_type": "code",
      "execution_count": null,
      "metadata": {
        "id": "-B8YiCL6BH9B"
      },
      "outputs": [],
      "source": [
        "#df_tweets = pd.read_json(\"/content/SpiderManNoWayHome_Tweets.json\")\n",
        "#df_tweets"
      ]
    },
    {
      "cell_type": "markdown",
      "metadata": {
        "id": "Fp9yQzYvjgY_"
      },
      "source": [
        "## Create some functions for the following process"
      ]
    },
    {
      "cell_type": "code",
      "execution_count": null,
      "metadata": {
        "id": "7MP8JpRrSama"
      },
      "outputs": [],
      "source": [
        "def preprocess(text, stopwords):\n",
        "  if not stopwords:\n",
        "    stopwords = []\n",
        "  text = text.lower() # Make the text lowercase\n",
        "  text = p.clean(text) # Clean text from any mention, emoji, hashtag, reserve words(such as FAV, RT), smiley, and url\n",
        "  text = text.strip().replace(\"\\n\",\"\")\n",
        "  text = re.sub(\"[^a-zA-Z0-9]\", \" \", text)\n",
        "  tokens = [w for w in text.split() if not w in stopwords]\n",
        "  text = \" \".join(tokens)\n",
        "  return text"
      ]
    },
    {
      "cell_type": "code",
      "execution_count": null,
      "metadata": {
        "id": "n7NbdbJ4olOf"
      },
      "outputs": [],
      "source": [
        "def get_sentiment(text):\n",
        "  # Classify sentiment based on sentiment polarity score\n",
        "  sentiment = \"\"\n",
        "  if TextBlob(text).sentiment.polarity > 0:\n",
        "    sentiment = \"positive\"\n",
        "  elif TextBlob(text).sentiment.polarity < 0:\n",
        "    sentiment = \"negative\"\n",
        "  else:\n",
        "    sentiment = \"neutral\"\n",
        "  return sentiment"
      ]
    },
    {
      "cell_type": "code",
      "execution_count": null,
      "metadata": {
        "id": "BTHvwrn7rZ2K"
      },
      "outputs": [],
      "source": [
        "def model_evaluate(model):\n",
        "    # Predict values for Test dataset\n",
        "    y_pred = model.predict(X_test)\n",
        "\n",
        "    # Print the evaluation metrics for the dataset\n",
        "    print(classification_report(y_test, y_pred))"
      ]
    },
    {
      "cell_type": "code",
      "execution_count": null,
      "metadata": {
        "id": "Ag0mF4rf2b9r"
      },
      "outputs": [],
      "source": [
        "def predict_sentiments(vectoriser, model, texts):\n",
        "    # Predict the sentiment\n",
        "    for item in texts:\n",
        "      item = item.lower() # Make the text lowercase\n",
        "      item = preprocess(item, stopwords_list) # Preprocess the text\n",
        "    textdata = vectoriser.transform(texts) # Vectorise the text with vectoriser\n",
        "    sentiments = model.predict(textdata) # Predict the sentiment from the text\n",
        "    scores = cross_val_score(SVCmodel, textdata, sentiments, cv=5) # Do cross validation\n",
        "    print(\"Cross Validation Score : {}\".format(scores))\n",
        "    df = pd.DataFrame(texts, columns=[\"tweet\"])\n",
        "    df[\"sentiment\"] = sentiments\n",
        "    return df"
      ]
    },
    {
      "cell_type": "markdown",
      "metadata": {
        "id": "ESKA32rpjxgt"
      },
      "source": [
        "##Create Stopwords list"
      ]
    },
    {
      "cell_type": "code",
      "execution_count": null,
      "metadata": {
        "colab": {
          "base_uri": "https://localhost:8080/"
        },
        "id": "Hw7WIhaLj2Vq",
        "outputId": "958d93b7-0816-4803-f17d-3c5205c00366"
      },
      "outputs": [
        {
          "output_type": "execute_result",
          "data": {
            "text/plain": [
              "['i', 'me', 'my', 'myself', 'we']"
            ]
          },
          "metadata": {},
          "execution_count": 21
        }
      ],
      "source": [
        "stopwords_list = []\n",
        "stopwords_list = stopwords.words(\"english\")\n",
        "stopwords_list[:5]"
      ]
    },
    {
      "cell_type": "markdown",
      "metadata": {
        "id": "KbWrZmwDwJVw"
      },
      "source": [
        "##Create Dataset for Sentiment"
      ]
    },
    {
      "cell_type": "code",
      "execution_count": null,
      "metadata": {
        "id": "kGHT4ow-4Zgw"
      },
      "outputs": [],
      "source": [
        "all_positive_tweets = twitter_samples.strings('positive_tweets.json')\n",
        "all_negative_tweets = twitter_samples.strings('negative_tweets.json')\n",
        "dataset = all_positive_tweets + all_negative_tweets\n",
        "df_data =pd.DataFrame(dataset, columns=[\"tweet\"])"
      ]
    },
    {
      "cell_type": "code",
      "execution_count": null,
      "metadata": {
        "id": "llBF4Kc2376G"
      },
      "outputs": [],
      "source": [
        "df_data[\"tweet\"] = df_data[\"tweet\"].map(lambda x: preprocess(x, stopwords_list))"
      ]
    },
    {
      "cell_type": "code",
      "execution_count": null,
      "metadata": {
        "id": "EcZDdpUNtEwc"
      },
      "outputs": [],
      "source": [
        "df_data[\"sentiment\"] = df_data[\"tweet\"].map(lambda x: get_sentiment(x))"
      ]
    },
    {
      "cell_type": "code",
      "execution_count": null,
      "metadata": {
        "colab": {
          "base_uri": "https://localhost:8080/",
          "height": 206
        },
        "id": "2FrbKYrFqXz7",
        "outputId": "37f466ed-080b-4e5d-b4d7-4e97cd96dda0"
      },
      "outputs": [
        {
          "output_type": "execute_result",
          "data": {
            "text/html": [
              "<div>\n",
              "<style scoped>\n",
              "    .dataframe tbody tr th:only-of-type {\n",
              "        vertical-align: middle;\n",
              "    }\n",
              "\n",
              "    .dataframe tbody tr th {\n",
              "        vertical-align: top;\n",
              "    }\n",
              "\n",
              "    .dataframe thead th {\n",
              "        text-align: right;\n",
              "    }\n",
              "</style>\n",
              "<table border=\"1\" class=\"dataframe\">\n",
              "  <thead>\n",
              "    <tr style=\"text-align: right;\">\n",
              "      <th></th>\n",
              "      <th>tweet</th>\n",
              "      <th>sentiment</th>\n",
              "    </tr>\n",
              "  </thead>\n",
              "  <tbody>\n",
              "    <tr>\n",
              "      <th>0</th>\n",
              "      <td>top engaged members community week</td>\n",
              "      <td>positive</td>\n",
              "    </tr>\n",
              "    <tr>\n",
              "      <th>1</th>\n",
              "      <td>hey james odd lease call contact centre 02392441234 able assist many thanks</td>\n",
              "      <td>positive</td>\n",
              "    </tr>\n",
              "    <tr>\n",
              "      <th>2</th>\n",
              "      <td>listen last night bleed amazing track scotland</td>\n",
              "      <td>positive</td>\n",
              "    </tr>\n",
              "    <tr>\n",
              "      <th>3</th>\n",
              "      <td>congrats</td>\n",
              "      <td>neutral</td>\n",
              "    </tr>\n",
              "    <tr>\n",
              "      <th>4</th>\n",
              "      <td>yeaaaah yippppy accnt verified rqst succeed got blue tick mark fb profile 15 days</td>\n",
              "      <td>neutral</td>\n",
              "    </tr>\n",
              "  </tbody>\n",
              "</table>\n",
              "</div>"
            ],
            "text/plain": [
              "                                                                               tweet  \\\n",
              "0                                                 top engaged members community week   \n",
              "1        hey james odd lease call contact centre 02392441234 able assist many thanks   \n",
              "2                                     listen last night bleed amazing track scotland   \n",
              "3                                                                           congrats   \n",
              "4  yeaaaah yippppy accnt verified rqst succeed got blue tick mark fb profile 15 days   \n",
              "\n",
              "  sentiment  \n",
              "0  positive  \n",
              "1  positive  \n",
              "2  positive  \n",
              "3   neutral  \n",
              "4   neutral  "
            ]
          },
          "metadata": {},
          "execution_count": 54
        }
      ],
      "source": [
        "df_data = df_data[[\"tweet\",\"sentiment\"]]\n",
        "df_data.head()"
      ]
    },
    {
      "cell_type": "code",
      "execution_count": null,
      "metadata": {
        "id": "GoCvNARJu4M1"
      },
      "outputs": [],
      "source": [
        "sentiment_dict = {\"positive\" : 0, \"negative\" : 0, \"neutral\": 0}\n",
        "for sentiment_value in df_data[\"sentiment\"]:\n",
        "  if sentiment_value == \"positive\":\n",
        "    sentiment_dict[\"positive\"] += 1\n",
        "  elif sentiment_value == \"negative\":\n",
        "    sentiment_dict[\"negative\"] += 1\n",
        "  elif sentiment_value == \"neutral\":\n",
        "    sentiment_dict[\"neutral\"] += 1"
      ]
    },
    {
      "cell_type": "code",
      "execution_count": null,
      "metadata": {
        "id": "gofc8HQSvfAW",
        "colab": {
          "base_uri": "https://localhost:8080/",
          "height": 263
        },
        "outputId": "d57d8b60-4eff-4b0c-b332-59be5475fa26"
      },
      "outputs": [
        {
          "output_type": "display_data",
          "data": {
            "image/png": "[encoded data removed]",
            "text/plain": [
              "<Figure size 432x288 with 1 Axes>"
            ]
          },
          "metadata": {}
        }
      ],
      "source": [
        "sentiment = np.array([sentiment_dict[\"positive\"],sentiment_dict[\"neutral\"],sentiment_dict[\"negative\"]])\n",
        "labels = [\"Positive\", \"Neutral\", \"Negative\"]\n",
        "mycolors = ['#43aa8b', '#277da1', '#f94144']\n",
        "\n",
        "plt.pie(sentiment, labels = labels, colors = mycolors, shadow = True, autopct='%.0f%%')\n",
        "plt.title(\"Sentiment of The Dataset\")\n",
        "plt.show()"
      ]
    },
    {
      "cell_type": "code",
      "execution_count": null,
      "metadata": {
        "id": "5Aq4-mbopd_4",
        "colab": {
          "base_uri": "https://localhost:8080/",
          "height": 385
        },
        "outputId": "bd7e0e18-5efa-4f89-be81-33a6c5c63cfb"
      },
      "outputs": [
        {
          "output_type": "display_data",
          "data": {
            "image/png": "[encoded data removed]",
            "text/plain": [
              "<Figure size 360x360 with 1 Axes>"
            ]
          },
          "metadata": {
            "needs_background": "light"
          }
        }
      ],
      "source": [
        "sns.catplot(x=\"sentiment\", kind=\"count\",  data=df_data, palette=sns.color_palette(['#43aa8b', '#277da1', '#f94144']))\n",
        "plt.title(\"Sentiment of The Dataset\")\n",
        "plt.show()"
      ]
    },
    {
      "cell_type": "code",
      "execution_count": null,
      "metadata": {
        "id": "vZK3o_WvDGz_",
        "colab": {
          "base_uri": "https://localhost:8080/"
        },
        "outputId": "fc569a38-ec97-491d-919e-f8ebf8d3b918"
      },
      "outputs": [
        {
          "output_type": "stream",
          "name": "stdout",
          "text": [
            "Counter({'neutral': 4669, 'positive': 3917, 'negative': 1414})\n"
          ]
        }
      ],
      "source": [
        "counter = Counter(df_data[\"sentiment\"])\n",
        "print(counter)"
      ]
    },
    {
      "cell_type": "code",
      "source": [
        "sample_neutral = df_data[df_data[\"sentiment\"] == \"neutral\"].sample(1414)\n",
        "sample_neutral.head()"
      ],
      "metadata": {
        "colab": {
          "base_uri": "https://localhost:8080/",
          "height": 206
        },
        "id": "8OBD_QxTAfsO",
        "outputId": "4838726c-16d6-402b-8ae3-2f41d3483c8d"
      },
      "execution_count": null,
      "outputs": [
        {
          "output_type": "execute_result",
          "data": {
            "text/html": [
              "<div>\n",
              "<style scoped>\n",
              "    .dataframe tbody tr th:only-of-type {\n",
              "        vertical-align: middle;\n",
              "    }\n",
              "\n",
              "    .dataframe tbody tr th {\n",
              "        vertical-align: top;\n",
              "    }\n",
              "\n",
              "    .dataframe thead th {\n",
              "        text-align: right;\n",
              "    }\n",
              "</style>\n",
              "<table border=\"1\" class=\"dataframe\">\n",
              "  <thead>\n",
              "    <tr style=\"text-align: right;\">\n",
              "      <th></th>\n",
              "      <th>tweet</th>\n",
              "      <th>sentiment</th>\n",
              "    </tr>\n",
              "  </thead>\n",
              "  <tbody>\n",
              "    <tr>\n",
              "      <th>428</th>\n",
              "      <td>a5 girl wardrobe would w</td>\n",
              "      <td>neutral</td>\n",
              "    </tr>\n",
              "    <tr>\n",
              "      <th>2781</th>\n",
              "      <td>event</td>\n",
              "      <td>neutral</td>\n",
              "    </tr>\n",
              "    <tr>\n",
              "      <th>8654</th>\n",
              "      <td>cannot</td>\n",
              "      <td>neutral</td>\n",
              "    </tr>\n",
              "    <tr>\n",
              "      <th>2143</th>\n",
              "      <td>luv ur avi</td>\n",
              "      <td>neutral</td>\n",
              "    </tr>\n",
              "    <tr>\n",
              "      <th>6979</th>\n",
              "      <td>tonight got photoshoooot</td>\n",
              "      <td>neutral</td>\n",
              "    </tr>\n",
              "  </tbody>\n",
              "</table>\n",
              "</div>"
            ],
            "text/plain": [
              "                         tweet sentiment\n",
              "428   a5 girl wardrobe would w   neutral\n",
              "2781                     event   neutral\n",
              "8654                    cannot   neutral\n",
              "2143                luv ur avi   neutral\n",
              "6979  tonight got photoshoooot   neutral"
            ]
          },
          "metadata": {},
          "execution_count": 59
        }
      ]
    },
    {
      "cell_type": "code",
      "source": [
        "sample_positive = df_data[df_data[\"sentiment\"] == \"positive\"].sample(1414)\n",
        "sample_positive.head()"
      ],
      "metadata": {
        "colab": {
          "base_uri": "https://localhost:8080/",
          "height": 206
        },
        "id": "KrqZue0QAv49",
        "outputId": "a657fdf6-9a51-45d6-dd90-64c2247b421a"
      },
      "execution_count": null,
      "outputs": [
        {
          "output_type": "execute_result",
          "data": {
            "text/html": [
              "<div>\n",
              "<style scoped>\n",
              "    .dataframe tbody tr th:only-of-type {\n",
              "        vertical-align: middle;\n",
              "    }\n",
              "\n",
              "    .dataframe tbody tr th {\n",
              "        vertical-align: top;\n",
              "    }\n",
              "\n",
              "    .dataframe thead th {\n",
              "        text-align: right;\n",
              "    }\n",
              "</style>\n",
              "<table border=\"1\" class=\"dataframe\">\n",
              "  <thead>\n",
              "    <tr style=\"text-align: right;\">\n",
              "      <th></th>\n",
              "      <th>tweet</th>\n",
              "      <th>sentiment</th>\n",
              "    </tr>\n",
              "  </thead>\n",
              "  <tbody>\n",
              "    <tr>\n",
              "      <th>6661</th>\n",
              "      <td>url new web site design easy use</td>\n",
              "      <td>positive</td>\n",
              "    </tr>\n",
              "    <tr>\n",
              "      <th>3666</th>\n",
              "      <td>hi time things likely wrap tonight gotta figure get back surrey afterwards thanks</td>\n",
              "      <td>positive</td>\n",
              "    </tr>\n",
              "    <tr>\n",
              "      <th>7850</th>\n",
              "      <td>ok rich kid give</td>\n",
              "      <td>positive</td>\n",
              "    </tr>\n",
              "    <tr>\n",
              "      <th>3086</th>\n",
              "      <td>hahaha bailey may fan boy ariana grande</td>\n",
              "      <td>positive</td>\n",
              "    </tr>\n",
              "    <tr>\n",
              "      <th>3227</th>\n",
              "      <td>new members</td>\n",
              "      <td>positive</td>\n",
              "    </tr>\n",
              "  </tbody>\n",
              "</table>\n",
              "</div>"
            ],
            "text/plain": [
              "                                                                                  tweet  \\\n",
              "6661                                                   url new web site design easy use   \n",
              "3666  hi time things likely wrap tonight gotta figure get back surrey afterwards thanks   \n",
              "7850                                                                   ok rich kid give   \n",
              "3086                                            hahaha bailey may fan boy ariana grande   \n",
              "3227                                                                        new members   \n",
              "\n",
              "     sentiment  \n",
              "6661  positive  \n",
              "3666  positive  \n",
              "7850  positive  \n",
              "3086  positive  \n",
              "3227  positive  "
            ]
          },
          "metadata": {},
          "execution_count": 60
        }
      ]
    },
    {
      "cell_type": "code",
      "source": [
        "sample_negative = df_data[df_data[\"sentiment\"] == \"negative\"].sample(1414)\n",
        "sample_negative.head()"
      ],
      "metadata": {
        "colab": {
          "base_uri": "https://localhost:8080/",
          "height": 206
        },
        "id": "wAjRhotAAwbl",
        "outputId": "16246a7a-e81a-4106-b95b-7c6e070c6e67"
      },
      "execution_count": null,
      "outputs": [
        {
          "output_type": "execute_result",
          "data": {
            "text/html": [
              "<div>\n",
              "<style scoped>\n",
              "    .dataframe tbody tr th:only-of-type {\n",
              "        vertical-align: middle;\n",
              "    }\n",
              "\n",
              "    .dataframe tbody tr th {\n",
              "        vertical-align: top;\n",
              "    }\n",
              "\n",
              "    .dataframe thead th {\n",
              "        text-align: right;\n",
              "    }\n",
              "</style>\n",
              "<table border=\"1\" class=\"dataframe\">\n",
              "  <thead>\n",
              "    <tr style=\"text-align: right;\">\n",
              "      <th></th>\n",
              "      <th>tweet</th>\n",
              "      <th>sentiment</th>\n",
              "    </tr>\n",
              "  </thead>\n",
              "  <tbody>\n",
              "    <tr>\n",
              "      <th>9183</th>\n",
              "      <td>hate seeing granddad like</td>\n",
              "      <td>negative</td>\n",
              "    </tr>\n",
              "    <tr>\n",
              "      <th>2841</th>\n",
              "      <td>especially conversational skills sucks</td>\n",
              "      <td>negative</td>\n",
              "    </tr>\n",
              "    <tr>\n",
              "      <th>6157</th>\n",
              "      <td>must tired</td>\n",
              "      <td>negative</td>\n",
              "    </tr>\n",
              "    <tr>\n",
              "      <th>6186</th>\n",
              "      <td>enough since wrote dark swan series ever write fifth book dying 3 years</td>\n",
              "      <td>negative</td>\n",
              "    </tr>\n",
              "    <tr>\n",
              "      <th>9245</th>\n",
              "      <td>taste bad though</td>\n",
              "      <td>negative</td>\n",
              "    </tr>\n",
              "  </tbody>\n",
              "</table>\n",
              "</div>"
            ],
            "text/plain": [
              "                                                                        tweet  \\\n",
              "9183                                                hate seeing granddad like   \n",
              "2841                                   especially conversational skills sucks   \n",
              "6157                                                               must tired   \n",
              "6186  enough since wrote dark swan series ever write fifth book dying 3 years   \n",
              "9245                                                         taste bad though   \n",
              "\n",
              "     sentiment  \n",
              "9183  negative  \n",
              "2841  negative  \n",
              "6157  negative  \n",
              "6186  negative  \n",
              "9245  negative  "
            ]
          },
          "metadata": {},
          "execution_count": 61
        }
      ]
    },
    {
      "cell_type": "code",
      "source": [
        "df_sample = pd.concat([sample_neutral,sample_positive,sample_negative])\n",
        "df_sample.index = range(len(df_sample))\n",
        "df_sample.head()"
      ],
      "metadata": {
        "colab": {
          "base_uri": "https://localhost:8080/",
          "height": 206
        },
        "id": "My1HDv1QBAUI",
        "outputId": "49d09b99-a927-46e9-ecc4-43168253cabf"
      },
      "execution_count": null,
      "outputs": [
        {
          "output_type": "execute_result",
          "data": {
            "text/html": [
              "<div>\n",
              "<style scoped>\n",
              "    .dataframe tbody tr th:only-of-type {\n",
              "        vertical-align: middle;\n",
              "    }\n",
              "\n",
              "    .dataframe tbody tr th {\n",
              "        vertical-align: top;\n",
              "    }\n",
              "\n",
              "    .dataframe thead th {\n",
              "        text-align: right;\n",
              "    }\n",
              "</style>\n",
              "<table border=\"1\" class=\"dataframe\">\n",
              "  <thead>\n",
              "    <tr style=\"text-align: right;\">\n",
              "      <th></th>\n",
              "      <th>tweet</th>\n",
              "      <th>sentiment</th>\n",
              "    </tr>\n",
              "  </thead>\n",
              "  <tbody>\n",
              "    <tr>\n",
              "      <th>0</th>\n",
              "      <td>a5 girl wardrobe would w</td>\n",
              "      <td>neutral</td>\n",
              "    </tr>\n",
              "    <tr>\n",
              "      <th>1</th>\n",
              "      <td>event</td>\n",
              "      <td>neutral</td>\n",
              "    </tr>\n",
              "    <tr>\n",
              "      <th>2</th>\n",
              "      <td>cannot</td>\n",
              "      <td>neutral</td>\n",
              "    </tr>\n",
              "    <tr>\n",
              "      <th>3</th>\n",
              "      <td>luv ur avi</td>\n",
              "      <td>neutral</td>\n",
              "    </tr>\n",
              "    <tr>\n",
              "      <th>4</th>\n",
              "      <td>tonight got photoshoooot</td>\n",
              "      <td>neutral</td>\n",
              "    </tr>\n",
              "  </tbody>\n",
              "</table>\n",
              "</div>"
            ],
            "text/plain": [
              "                      tweet sentiment\n",
              "0  a5 girl wardrobe would w   neutral\n",
              "1                     event   neutral\n",
              "2                    cannot   neutral\n",
              "3                luv ur avi   neutral\n",
              "4  tonight got photoshoooot   neutral"
            ]
          },
          "metadata": {},
          "execution_count": 62
        }
      ]
    },
    {
      "cell_type": "code",
      "source": [
        "df_data = df_sample.copy()\n",
        "df_data.head()"
      ],
      "metadata": {
        "colab": {
          "base_uri": "https://localhost:8080/",
          "height": 206
        },
        "id": "2adc1ezRDVot",
        "outputId": "d63cb966-4d00-4ecd-ef24-83313e85619c"
      },
      "execution_count": null,
      "outputs": [
        {
          "output_type": "execute_result",
          "data": {
            "text/html": [
              "<div>\n",
              "<style scoped>\n",
              "    .dataframe tbody tr th:only-of-type {\n",
              "        vertical-align: middle;\n",
              "    }\n",
              "\n",
              "    .dataframe tbody tr th {\n",
              "        vertical-align: top;\n",
              "    }\n",
              "\n",
              "    .dataframe thead th {\n",
              "        text-align: right;\n",
              "    }\n",
              "</style>\n",
              "<table border=\"1\" class=\"dataframe\">\n",
              "  <thead>\n",
              "    <tr style=\"text-align: right;\">\n",
              "      <th></th>\n",
              "      <th>tweet</th>\n",
              "      <th>sentiment</th>\n",
              "    </tr>\n",
              "  </thead>\n",
              "  <tbody>\n",
              "    <tr>\n",
              "      <th>0</th>\n",
              "      <td>a5 girl wardrobe would w</td>\n",
              "      <td>neutral</td>\n",
              "    </tr>\n",
              "    <tr>\n",
              "      <th>1</th>\n",
              "      <td>event</td>\n",
              "      <td>neutral</td>\n",
              "    </tr>\n",
              "    <tr>\n",
              "      <th>2</th>\n",
              "      <td>cannot</td>\n",
              "      <td>neutral</td>\n",
              "    </tr>\n",
              "    <tr>\n",
              "      <th>3</th>\n",
              "      <td>luv ur avi</td>\n",
              "      <td>neutral</td>\n",
              "    </tr>\n",
              "    <tr>\n",
              "      <th>4</th>\n",
              "      <td>tonight got photoshoooot</td>\n",
              "      <td>neutral</td>\n",
              "    </tr>\n",
              "  </tbody>\n",
              "</table>\n",
              "</div>"
            ],
            "text/plain": [
              "                      tweet sentiment\n",
              "0  a5 girl wardrobe would w   neutral\n",
              "1                     event   neutral\n",
              "2                    cannot   neutral\n",
              "3                luv ur avi   neutral\n",
              "4  tonight got photoshoooot   neutral"
            ]
          },
          "metadata": {},
          "execution_count": 63
        }
      ]
    },
    {
      "cell_type": "code",
      "execution_count": null,
      "metadata": {
        "id": "KEFH_sGDGIt0",
        "colab": {
          "base_uri": "https://localhost:8080/",
          "height": 385
        },
        "outputId": "f7177f7e-50c3-4f5d-eccc-115a80a126a6"
      },
      "outputs": [
        {
          "output_type": "display_data",
          "data": {
            "image/png": "[encoded data removed]",
            "text/plain": [
              "<Figure size 360x360 with 1 Axes>"
            ]
          },
          "metadata": {
            "needs_background": "light"
          }
        }
      ],
      "source": [
        "sns.catplot(x=\"sentiment\", kind=\"count\",  data=df_data, palette=sns.color_palette(['#277da1', '#43aa8b', '#f94144']))\n",
        "plt.title(\"Sentiment of The Dataset\")\n",
        "plt.show()"
      ]
    },
    {
      "cell_type": "code",
      "execution_count": null,
      "metadata": {
        "id": "MMcLs37GGk_b",
        "colab": {
          "base_uri": "https://localhost:8080/"
        },
        "outputId": "b486eb37-cd87-499d-fa3a-642462f770c0"
      },
      "outputs": [
        {
          "output_type": "stream",
          "name": "stdout",
          "text": [
            "Counter({'neutral': 1414, 'positive': 1414, 'negative': 1414})\n"
          ]
        }
      ],
      "source": [
        "counter = Counter(df_data[\"sentiment\"])\n",
        "print(counter)"
      ]
    },
    {
      "cell_type": "code",
      "execution_count": null,
      "metadata": {
        "id": "M48nIBp5ryMu",
        "colab": {
          "base_uri": "https://localhost:8080/",
          "height": 206
        },
        "outputId": "d8e72748-072e-4483-fed7-e5bc8cdb6a33"
      },
      "outputs": [
        {
          "output_type": "execute_result",
          "data": {
            "text/html": [
              "<div>\n",
              "<style scoped>\n",
              "    .dataframe tbody tr th:only-of-type {\n",
              "        vertical-align: middle;\n",
              "    }\n",
              "\n",
              "    .dataframe tbody tr th {\n",
              "        vertical-align: top;\n",
              "    }\n",
              "\n",
              "    .dataframe thead th {\n",
              "        text-align: right;\n",
              "    }\n",
              "</style>\n",
              "<table border=\"1\" class=\"dataframe\">\n",
              "  <thead>\n",
              "    <tr style=\"text-align: right;\">\n",
              "      <th></th>\n",
              "      <th>tweet</th>\n",
              "      <th>sentiment</th>\n",
              "    </tr>\n",
              "  </thead>\n",
              "  <tbody>\n",
              "    <tr>\n",
              "      <th>0</th>\n",
              "      <td>a5 girl wardrobe would w</td>\n",
              "      <td>0</td>\n",
              "    </tr>\n",
              "    <tr>\n",
              "      <th>1</th>\n",
              "      <td>event</td>\n",
              "      <td>0</td>\n",
              "    </tr>\n",
              "    <tr>\n",
              "      <th>2</th>\n",
              "      <td>cannot</td>\n",
              "      <td>0</td>\n",
              "    </tr>\n",
              "    <tr>\n",
              "      <th>3</th>\n",
              "      <td>luv ur avi</td>\n",
              "      <td>0</td>\n",
              "    </tr>\n",
              "    <tr>\n",
              "      <th>4</th>\n",
              "      <td>tonight got photoshoooot</td>\n",
              "      <td>0</td>\n",
              "    </tr>\n",
              "  </tbody>\n",
              "</table>\n",
              "</div>"
            ],
            "text/plain": [
              "                      tweet  sentiment\n",
              "0  a5 girl wardrobe would w          0\n",
              "1                     event          0\n",
              "2                    cannot          0\n",
              "3                luv ur avi          0\n",
              "4  tonight got photoshoooot          0"
            ]
          },
          "metadata": {},
          "execution_count": 66
        }
      ],
      "source": [
        "sentiment_mapping = {'positive': 1,'neutral': 0, 'negative': -1}\n",
        "df_data[\"sentiment\"] = df_data[\"sentiment\"].map(sentiment_mapping).astype(int)\n",
        "\n",
        "df_data.head()"
      ]
    },
    {
      "cell_type": "code",
      "source": [
        "df_data = df_data.sample(1414*3)\n",
        "df_data.index = range(len(df_data))\n",
        "df_data"
      ],
      "metadata": {
        "colab": {
          "base_uri": "https://localhost:8080/",
          "height": 423
        },
        "id": "Ld8AI45DDnYF",
        "outputId": "9227c556-1d60-4280-90df-980ba9a7d96f"
      },
      "execution_count": null,
      "outputs": [
        {
          "output_type": "execute_result",
          "data": {
            "text/html": [
              "<div>\n",
              "<style scoped>\n",
              "    .dataframe tbody tr th:only-of-type {\n",
              "        vertical-align: middle;\n",
              "    }\n",
              "\n",
              "    .dataframe tbody tr th {\n",
              "        vertical-align: top;\n",
              "    }\n",
              "\n",
              "    .dataframe thead th {\n",
              "        text-align: right;\n",
              "    }\n",
              "</style>\n",
              "<table border=\"1\" class=\"dataframe\">\n",
              "  <thead>\n",
              "    <tr style=\"text-align: right;\">\n",
              "      <th></th>\n",
              "      <th>tweet</th>\n",
              "      <th>sentiment</th>\n",
              "    </tr>\n",
              "  </thead>\n",
              "  <tbody>\n",
              "    <tr>\n",
              "      <th>0</th>\n",
              "      <td>thanks jen top weekend everyone</td>\n",
              "      <td>1</td>\n",
              "    </tr>\n",
              "    <tr>\n",
              "      <th>1</th>\n",
              "      <td>want sleep tired</td>\n",
              "      <td>-1</td>\n",
              "    </tr>\n",
              "    <tr>\n",
              "      <th>2</th>\n",
              "      <td>really like demi new song video</td>\n",
              "      <td>1</td>\n",
              "    </tr>\n",
              "    <tr>\n",
              "      <th>3</th>\n",
              "      <td>damn forgot hot chocolate</td>\n",
              "      <td>1</td>\n",
              "    </tr>\n",
              "    <tr>\n",
              "      <th>4</th>\n",
              "      <td>surprise visit naaahhh</td>\n",
              "      <td>0</td>\n",
              "    </tr>\n",
              "    <tr>\n",
              "      <th>...</th>\n",
              "      <td>...</td>\n",
              "      <td>...</td>\n",
              "    </tr>\n",
              "    <tr>\n",
              "      <th>4237</th>\n",
              "      <td>unfortunately curious english board announcements said trespassers fr clandestins</td>\n",
              "      <td>-1</td>\n",
              "    </tr>\n",
              "    <tr>\n",
              "      <th>4238</th>\n",
              "      <td>skype account order think hacked contacts sorry creating new one soon</td>\n",
              "      <td>-1</td>\n",
              "    </tr>\n",
              "    <tr>\n",
              "      <th>4239</th>\n",
              "      <td>oh sorry hear issues signal jojo pop full postcode happening</td>\n",
              "      <td>-1</td>\n",
              "    </tr>\n",
              "    <tr>\n",
              "      <th>4240</th>\n",
              "      <td>number one america wish could buy money</td>\n",
              "      <td>0</td>\n",
              "    </tr>\n",
              "    <tr>\n",
              "      <th>4241</th>\n",
              "      <td>ur nawf</td>\n",
              "      <td>0</td>\n",
              "    </tr>\n",
              "  </tbody>\n",
              "</table>\n",
              "<p>4242 rows × 2 columns</p>\n",
              "</div>"
            ],
            "text/plain": [
              "                                                                                  tweet  \\\n",
              "0                                                       thanks jen top weekend everyone   \n",
              "1                                                                      want sleep tired   \n",
              "2                                                       really like demi new song video   \n",
              "3                                                             damn forgot hot chocolate   \n",
              "4                                                                surprise visit naaahhh   \n",
              "...                                                                                 ...   \n",
              "4237  unfortunately curious english board announcements said trespassers fr clandestins   \n",
              "4238              skype account order think hacked contacts sorry creating new one soon   \n",
              "4239                       oh sorry hear issues signal jojo pop full postcode happening   \n",
              "4240                                            number one america wish could buy money   \n",
              "4241                                                                            ur nawf   \n",
              "\n",
              "      sentiment  \n",
              "0             1  \n",
              "1            -1  \n",
              "2             1  \n",
              "3             1  \n",
              "4             0  \n",
              "...         ...  \n",
              "4237         -1  \n",
              "4238         -1  \n",
              "4239         -1  \n",
              "4240          0  \n",
              "4241          0  \n",
              "\n",
              "[4242 rows x 2 columns]"
            ]
          },
          "metadata": {},
          "execution_count": 67
        }
      ]
    },
    {
      "cell_type": "markdown",
      "source": [
        "## Create a Model and Find the Best One"
      ],
      "metadata": {
        "id": "g3F_UiGy_iNF"
      }
    },
    {
      "cell_type": "code",
      "execution_count": null,
      "metadata": {
        "id": "HHU1HObDqkbB",
        "colab": {
          "base_uri": "https://localhost:8080/"
        },
        "outputId": "57dd9705-42da-4e0a-fbaa-20f5c95fc0c0"
      },
      "outputs": [
        {
          "output_type": "stream",
          "name": "stdout",
          "text": [
            "Data Split done.\n"
          ]
        }
      ],
      "source": [
        "X_train, X_test, y_train, y_test = train_test_split(df_data[\"tweet\"], df_data[\"sentiment\"], test_size = 0.2, random_state = 0)\n",
        "print(f'Data Split done.')"
      ]
    },
    {
      "cell_type": "code",
      "execution_count": null,
      "metadata": {
        "id": "OHKjzE0vrGui",
        "colab": {
          "base_uri": "https://localhost:8080/"
        },
        "outputId": "6bea766a-368b-4317-f254-28f4d11544a8"
      },
      "outputs": [
        {
          "output_type": "stream",
          "name": "stdout",
          "text": [
            "Vectoriser fitted.\n",
            "No. of feature_words:  18983\n"
          ]
        },
        {
          "output_type": "stream",
          "name": "stderr",
          "text": [
            "/usr/local/lib/python3.7/dist-packages/sklearn/utils/deprecation.py:87: FutureWarning: Function get_feature_names is deprecated; get_feature_names is deprecated in 1.0 and will be removed in 1.2. Please use get_feature_names_out instead.\n",
            "  warnings.warn(msg, category=FutureWarning)\n"
          ]
        }
      ],
      "source": [
        "vectoriser = TfidfVectorizer(ngram_range=(1,2), max_features=500000, norm=\"l2\")\n",
        "vectoriser.fit(X_train)\n",
        "print(f'Vectoriser fitted.')\n",
        "print('No. of feature_words: ', len(vectoriser.get_feature_names()))"
      ]
    },
    {
      "cell_type": "code",
      "execution_count": null,
      "metadata": {
        "id": "A5rR7xDvrTOX",
        "colab": {
          "base_uri": "https://localhost:8080/"
        },
        "outputId": "10793b2c-0ea3-447b-d3cc-b4ce1186a554"
      },
      "outputs": [
        {
          "output_type": "stream",
          "name": "stdout",
          "text": [
            "Data Transformed.\n"
          ]
        }
      ],
      "source": [
        "X_train = vectoriser.transform(X_train)\n",
        "X_test  = vectoriser.transform(X_test)\n",
        "print(f'Data Transformed.')"
      ]
    },
    {
      "cell_type": "code",
      "execution_count": null,
      "metadata": {
        "id": "0K0Yt6Q9rbhw",
        "colab": {
          "base_uri": "https://localhost:8080/"
        },
        "outputId": "ffbb7a40-ef71-407a-c271-5344fa498f69"
      },
      "outputs": [
        {
          "output_type": "stream",
          "name": "stdout",
          "text": [
            "              precision    recall  f1-score   support\n",
            "\n",
            "          -1       0.82      0.88      0.85       291\n",
            "           0       0.84      0.80      0.82       273\n",
            "           1       0.89      0.86      0.88       285\n",
            "\n",
            "    accuracy                           0.85       849\n",
            "   macro avg       0.85      0.85      0.85       849\n",
            "weighted avg       0.85      0.85      0.85       849\n",
            "\n"
          ]
        }
      ],
      "source": [
        "SVCmodel = LinearSVC()\n",
        "SVCmodel.fit(X_train, y_train)\n",
        "model_evaluate(SVCmodel)"
      ]
    },
    {
      "cell_type": "code",
      "execution_count": null,
      "metadata": {
        "id": "5DKoLxecrK8C",
        "colab": {
          "base_uri": "https://localhost:8080/"
        },
        "outputId": "f77108ea-ddf0-43d4-cb82-4bf19d2a8a20"
      },
      "outputs": [
        {
          "output_type": "stream",
          "name": "stdout",
          "text": [
            "              precision    recall  f1-score   support\n",
            "\n",
            "          -1       0.83      0.86      0.84       291\n",
            "           0       0.81      0.81      0.81       273\n",
            "           1       0.89      0.86      0.87       285\n",
            "\n",
            "    accuracy                           0.84       849\n",
            "   macro avg       0.84      0.84      0.84       849\n",
            "weighted avg       0.84      0.84      0.84       849\n",
            "\n"
          ]
        }
      ],
      "source": [
        "LogRmodel = LogisticRegression(C = 3, max_iter = 1000, n_jobs=-1)\n",
        "LogRmodel.fit(X_train, y_train)\n",
        "model_evaluate(LogRmodel)"
      ]
    },
    {
      "cell_type": "code",
      "execution_count": null,
      "metadata": {
        "id": "QRBoM1cDrL4C",
        "colab": {
          "base_uri": "https://localhost:8080/"
        },
        "outputId": "0f4b5a7f-9593-4039-e068-1d33df011b90"
      },
      "outputs": [
        {
          "output_type": "stream",
          "name": "stdout",
          "text": [
            "              precision    recall  f1-score   support\n",
            "\n",
            "          -1       0.79      0.87      0.83       291\n",
            "           0       0.81      0.73      0.77       273\n",
            "           1       0.84      0.85      0.85       285\n",
            "\n",
            "    accuracy                           0.82       849\n",
            "   macro avg       0.82      0.81      0.81       849\n",
            "weighted avg       0.82      0.82      0.81       849\n",
            "\n"
          ]
        }
      ],
      "source": [
        "perceptronmodel = Perceptron(tol=1e-3, random_state=0)\n",
        "perceptronmodel.fit(X_train, y_train)\n",
        "model_evaluate(perceptronmodel)"
      ]
    },
    {
      "cell_type": "markdown",
      "source": [
        "##Predict the Sentiment for the Tweets and Do Cross Validation"
      ],
      "metadata": {
        "id": "bT4B44jb_8l-"
      }
    },
    {
      "cell_type": "code",
      "execution_count": null,
      "metadata": {
        "id": "g1vacq6iL9qV",
        "colab": {
          "base_uri": "https://localhost:8080/",
          "height": 476
        },
        "outputId": "5e9fc39b-e18e-4efd-b672-07a4a264d664"
      },
      "outputs": [
        {
          "output_type": "stream",
          "name": "stdout",
          "text": [
            "Cross Validation Score : [0.9086967  0.90628764 0.913033   0.90773308 0.90146953]\n"
          ]
        },
        {
          "output_type": "execute_result",
          "data": {
            "text/html": [
              "<div>\n",
              "<style scoped>\n",
              "    .dataframe tbody tr th:only-of-type {\n",
              "        vertical-align: middle;\n",
              "    }\n",
              "\n",
              "    .dataframe tbody tr th {\n",
              "        vertical-align: top;\n",
              "    }\n",
              "\n",
              "    .dataframe thead th {\n",
              "        text-align: right;\n",
              "    }\n",
              "</style>\n",
              "<table border=\"1\" class=\"dataframe\">\n",
              "  <thead>\n",
              "    <tr style=\"text-align: right;\">\n",
              "      <th></th>\n",
              "      <th>tweet</th>\n",
              "      <th>sentiment</th>\n",
              "    </tr>\n",
              "  </thead>\n",
              "  <tbody>\n",
              "    <tr>\n",
              "      <th>0</th>\n",
              "      <td>Cant believe were about to witness an Avengers Endgame level movie NEXT WEEK its been a while tbh</td>\n",
              "      <td>neutral</td>\n",
              "    </tr>\n",
              "    <tr>\n",
              "      <th>1</th>\n",
              "      <td>Im waiting</td>\n",
              "      <td>negative</td>\n",
              "    </tr>\n",
              "    <tr>\n",
              "      <th>2</th>\n",
              "      <td>One week away</td>\n",
              "      <td>neutral</td>\n",
              "    </tr>\n",
              "    <tr>\n",
              "      <th>3</th>\n",
              "      <td>Show me who you would cast as Harry Osborn in the MCU after</td>\n",
              "      <td>negative</td>\n",
              "    </tr>\n",
              "    <tr>\n",
              "      <th>4</th>\n",
              "      <td>New Scene from the streetfight for we see here a British Spiderman Sparking his marbles on the street something you never saw in original Spiderman Books cause that wouldnt work with anything spiderman does Nuts on Fire</td>\n",
              "      <td>positive</td>\n",
              "    </tr>\n",
              "    <tr>\n",
              "      <th>...</th>\n",
              "      <td>...</td>\n",
              "      <td>...</td>\n",
              "    </tr>\n",
              "    <tr>\n",
              "      <th>20750</th>\n",
              "      <td>Guess what month it is</td>\n",
              "      <td>neutral</td>\n",
              "    </tr>\n",
              "    <tr>\n",
              "      <th>20751</th>\n",
              "      <td>15 Days To Go</td>\n",
              "      <td>negative</td>\n",
              "    </tr>\n",
              "    <tr>\n",
              "      <th>20752</th>\n",
              "      <td>We know you could do better</td>\n",
              "      <td>positive</td>\n",
              "    </tr>\n",
              "    <tr>\n",
              "      <th>20753</th>\n",
              "      <td>Calling all you Spidey fans check out our exclusive combo available to pre order online during ticket purchase or in cinema from 15 December</td>\n",
              "      <td>positive</td>\n",
              "    </tr>\n",
              "    <tr>\n",
              "      <th>20754</th>\n",
              "      <td>Thank you for the update I wasn t sure if I was going to be able to participate in Nick s event since I had already secured coveted premier night tickets at my local happening that same night But now I can enjoy BOTH</td>\n",
              "      <td>positive</td>\n",
              "    </tr>\n",
              "  </tbody>\n",
              "</table>\n",
              "<p>20755 rows × 2 columns</p>\n",
              "</div>"
            ],
            "text/plain": [
              "                                                                                                                                                                                                                              tweet  \\\n",
              "0                                                                                                                                Cant believe were about to witness an Avengers Endgame level movie NEXT WEEK its been a while tbh    \n",
              "1                                                                                                                                                                                                                        Im waiting   \n",
              "2                                                                                                                                                                                                                     One week away   \n",
              "3                                                                                                                                                                       Show me who you would cast as Harry Osborn in the MCU after   \n",
              "4      New Scene from the streetfight for we see here a British Spiderman Sparking his marbles on the street something you never saw in original Spiderman Books cause that wouldnt work with anything spiderman does Nuts on Fire    \n",
              "...                                                                                                                                                                                                                             ...   \n",
              "20750                                                                                                                                                                                                        Guess what month it is   \n",
              "20751                                                                                                                                                                                                                 15 Days To Go   \n",
              "20752                                                                                                                                                                                                  We know you could do better    \n",
              "20753                                                                                 Calling all you Spidey fans check out our exclusive combo available to pre order online during ticket purchase or in cinema from 15 December    \n",
              "20754     Thank you for the update I wasn t sure if I was going to be able to participate in Nick s event since I had already secured coveted premier night tickets at my local happening that same night But now I can enjoy BOTH    \n",
              "\n",
              "      sentiment  \n",
              "0       neutral  \n",
              "1      negative  \n",
              "2       neutral  \n",
              "3      negative  \n",
              "4      positive  \n",
              "...         ...  \n",
              "20750   neutral  \n",
              "20751  negative  \n",
              "20752  positive  \n",
              "20753  positive  \n",
              "20754  positive  \n",
              "\n",
              "[20755 rows x 2 columns]"
            ]
          },
          "metadata": {},
          "execution_count": 74
        }
      ],
      "source": [
        "result = predict_sentiments(vectoriser, SVCmodel, df_tweets[\"tweet\"])\n",
        "reverse_sentiment_mapping = {1:'positive', 0:'neutral', -1:'negative'}\n",
        "result[\"sentiment\"] = result[\"sentiment\"].map(reverse_sentiment_mapping).astype(str)\n",
        "result"
      ]
    },
    {
      "cell_type": "code",
      "execution_count": null,
      "metadata": {
        "id": "W2j4ck9DNxtg"
      },
      "outputs": [],
      "source": [
        "sentiment_dict = {\"positive\" : 0, \"negative\" : 0, \"neutral\": 0}\n",
        "for sentiment_value in result[\"sentiment\"]:\n",
        "  if sentiment_value == \"positive\":\n",
        "    sentiment_dict[\"positive\"] += 1\n",
        "  elif sentiment_value == \"negative\":\n",
        "    sentiment_dict[\"negative\"] += 1\n",
        "  elif sentiment_value == \"neutral\":\n",
        "    sentiment_dict[\"neutral\"] += 1"
      ]
    },
    {
      "cell_type": "code",
      "execution_count": null,
      "metadata": {
        "id": "F73B3arhN38L",
        "colab": {
          "base_uri": "https://localhost:8080/",
          "height": 263
        },
        "outputId": "b05e35ff-44e1-4fae-fb31-2fecd64c7099"
      },
      "outputs": [
        {
          "output_type": "display_data",
          "data": {
            "image/png": "[encoded data removed]",
            "text/plain": [
              "<Figure size 432x288 with 1 Axes>"
            ]
          },
          "metadata": {}
        }
      ],
      "source": [
        "sentiment = np.array([sentiment_dict[\"positive\"],sentiment_dict[\"neutral\"],sentiment_dict[\"negative\"]])\n",
        "labels = [\"Positive\", \"Neutral\", \"Negative\"]\n",
        "mycolors = ['#43aa8b', '#277da1', '#f94144']\n",
        "\n",
        "plt.pie(sentiment, labels = labels, colors = mycolors, shadow = True, autopct='%.0f%%')\n",
        "plt.title(\"Sentiment of Tweets with Hashtag #SpiderManNoWayHome\")\n",
        "plt.show()"
      ]
    },
    {
      "cell_type": "code",
      "execution_count": null,
      "metadata": {
        "id": "XCN-EbIqN9J6",
        "colab": {
          "base_uri": "https://localhost:8080/",
          "height": 385
        },
        "outputId": "07fdf49f-691d-454a-eefb-2222829274d7"
      },
      "outputs": [
        {
          "output_type": "display_data",
          "data": {
            "image/png": "[encoded data removed]",
            "text/plain": [
              "<Figure size 360x360 with 1 Axes>"
            ]
          },
          "metadata": {
            "needs_background": "light"
          }
        }
      ],
      "source": [
        "sns.catplot(x=\"sentiment\", kind=\"count\",  data=result, palette=sns.color_palette(['#277da1', '#f94144', '#43aa8b']))\n",
        "plt.title(\"Sentiment of The Tweets with Hashtag #SpiderManNoWayHome\")\n",
        "plt.show()"
      ]
    },
    {
      "cell_type": "code",
      "execution_count": null,
      "metadata": {
        "id": "7VIGGRWiN_vb",
        "colab": {
          "base_uri": "https://localhost:8080/"
        },
        "outputId": "1818040a-773e-45b1-9060-18a1c555869f"
      },
      "outputs": [
        {
          "output_type": "stream",
          "name": "stdout",
          "text": [
            "Counter({'neutral': 8603, 'positive': 8224, 'negative': 3928})\n"
          ]
        }
      ],
      "source": [
        "counter = Counter(result[\"sentiment\"])\n",
        "print(counter)"
      ]
    }
  ],
  "metadata": {
    "colab": {
      "collapsed_sections": [],
      "name": "Sentiment Analysis Twitter Spiderman No Way Home.ipynb",
      "provenance": []
    },
    "kernelspec": {
      "display_name": "Python 3",
      "name": "python3"
    },
    "language_info": {
      "name": "python"
    }
  },
  "nbformat": 4,
  "nbformat_minor": 0
}